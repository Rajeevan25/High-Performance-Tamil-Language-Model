{
 "cells": [
  {
   "cell_type": "code",
   "execution_count": 2,
   "metadata": {
    "execution": {
     "iopub.execute_input": "2025-05-24T08:45:36.757126Z",
     "iopub.status.busy": "2025-05-24T08:45:36.756143Z",
     "iopub.status.idle": "2025-05-24T08:45:36.760799Z",
     "shell.execute_reply": "2025-05-24T08:45:36.760054Z",
     "shell.execute_reply.started": "2025-05-24T08:45:36.757098Z"
    },
    "trusted": true
   },
   "outputs": [],
   "source": [
    "import json\n",
    "from transformers import AutoTokenizer, AutoModelForQuestionAnswering, TrainingArguments, Trainer\n",
    "from transformers import default_data_collator\n",
    "import pandas as pd\n",
    "from datasets import Dataset\n",
    "import torch"
   ]
  },
  {
   "cell_type": "code",
   "execution_count": 3,
   "metadata": {
    "execution": {
     "iopub.execute_input": "2025-05-24T08:45:39.805541Z",
     "iopub.status.busy": "2025-05-24T08:45:39.805026Z",
     "iopub.status.idle": "2025-05-24T08:45:44.510957Z",
     "shell.execute_reply": "2025-05-24T08:45:44.510310Z",
     "shell.execute_reply.started": "2025-05-24T08:45:39.805517Z"
    },
    "trusted": true
   },
   "outputs": [
    {
     "data": {
      "application/vnd.jupyter.widget-view+json": {
       "model_id": "53f17f7f4cd542a79005079e241213ed",
       "version_major": 2,
       "version_minor": 0
      },
      "text/plain": [
       "tokenizer_config.json:   0%|          | 0.00/1.18k [00:00<?, ?B/s]"
      ]
     },
     "metadata": {},
     "output_type": "display_data"
    },
    {
     "data": {
      "application/vnd.jupyter.widget-view+json": {
       "model_id": "dc0e7464786f45bea3ef7aa58747efc1",
       "version_major": 2,
       "version_minor": 0
      },
      "text/plain": [
       "sentencepiece.bpe.model:   0%|          | 0.00/5.07M [00:00<?, ?B/s]"
      ]
     },
     "metadata": {},
     "output_type": "display_data"
    },
    {
     "data": {
      "application/vnd.jupyter.widget-view+json": {
       "model_id": "264551196613446d8c14d5db98fba345",
       "version_major": 2,
       "version_minor": 0
      },
      "text/plain": [
       "tokenizer.json:   0%|          | 0.00/17.1M [00:00<?, ?B/s]"
      ]
     },
     "metadata": {},
     "output_type": "display_data"
    },
    {
     "data": {
      "application/vnd.jupyter.widget-view+json": {
       "model_id": "25189fd8e2d14f5dbf35190c603a822a",
       "version_major": 2,
       "version_minor": 0
      },
      "text/plain": [
       "special_tokens_map.json:   0%|          | 0.00/964 [00:00<?, ?B/s]"
      ]
     },
     "metadata": {},
     "output_type": "display_data"
    },
    {
     "data": {
      "application/vnd.jupyter.widget-view+json": {
       "model_id": "895b5050bc7749a3a0f9db884ee2ab17",
       "version_major": 2,
       "version_minor": 0
      },
      "text/plain": [
       "config.json:   0%|          | 0.00/687 [00:00<?, ?B/s]"
      ]
     },
     "metadata": {},
     "output_type": "display_data"
    },
    {
     "data": {
      "application/vnd.jupyter.widget-view+json": {
       "model_id": "db6ced50e8b24c8583bc7216e6e5b423",
       "version_major": 2,
       "version_minor": 0
      },
      "text/plain": [
       "model.safetensors:   0%|          | 0.00/614M [00:00<?, ?B/s]"
      ]
     },
     "metadata": {},
     "output_type": "display_data"
    }
   ],
   "source": [
    "from transformers import pipeline, AutoModelForQuestionAnswering, AutoTokenizer\n",
    "tokenizer = AutoTokenizer.from_pretrained(\"RajeevanL/distilled_XLMRoberta_153_v2\")\n",
    "model = AutoModelForQuestionAnswering.from_pretrained(\"RajeevanL/distilled_XLMRoberta_153_v2\")"
   ]
  },
  {
   "cell_type": "code",
   "execution_count": 4,
   "metadata": {
    "execution": {
     "iopub.execute_input": "2025-05-24T08:45:49.349859Z",
     "iopub.status.busy": "2025-05-24T08:45:49.349580Z",
     "iopub.status.idle": "2025-05-24T08:45:55.482245Z",
     "shell.execute_reply": "2025-05-24T08:45:55.481354Z",
     "shell.execute_reply.started": "2025-05-24T08:45:49.349837Z"
    },
    "trusted": true
   },
   "outputs": [
    {
     "name": "stderr",
     "output_type": "stream",
     "text": [
      "/tmp/ipykernel_75/2304354973.py:8: DeprecationWarning: load_dataset is deprecated and will be removed in a future version.\n",
      "  df = kagglehub.load_dataset(\n"
     ]
    }
   ],
   "source": [
    "import kagglehub\n",
    "from kagglehub import KaggleDatasetAdapter\n",
    "\n",
    "# Set the path to the file you'd like to load\n",
    "file_path = \"TamilSQUAD.xlsx\"\n",
    "\n",
    "# Load the latest version\n",
    "df = kagglehub.load_dataset(\n",
    "  KaggleDatasetAdapter.PANDAS,\n",
    "  \"uom200501p/tamilsquad\",\n",
    "  file_path,\n",
    ")"
   ]
  },
  {
   "cell_type": "code",
   "execution_count": 5,
   "metadata": {
    "execution": {
     "iopub.execute_input": "2025-05-24T08:46:00.532796Z",
     "iopub.status.busy": "2025-05-24T08:46:00.532208Z",
     "iopub.status.idle": "2025-05-24T08:46:00.576517Z",
     "shell.execute_reply": "2025-05-24T08:46:00.575796Z",
     "shell.execute_reply.started": "2025-05-24T08:46:00.532772Z"
    },
    "trusted": true
   },
   "outputs": [
    {
     "data": {
      "text/html": [
       "<div>\n",
       "<style scoped>\n",
       "    .dataframe tbody tr th:only-of-type {\n",
       "        vertical-align: middle;\n",
       "    }\n",
       "\n",
       "    .dataframe tbody tr th {\n",
       "        vertical-align: top;\n",
       "    }\n",
       "\n",
       "    .dataframe thead th {\n",
       "        text-align: right;\n",
       "    }\n",
       "</style>\n",
       "<table border=\"1\" class=\"dataframe\">\n",
       "  <thead>\n",
       "    <tr style=\"text-align: right;\">\n",
       "      <th></th>\n",
       "      <th>Column1</th>\n",
       "      <th>Column2</th>\n",
       "      <th>Column3</th>\n",
       "    </tr>\n",
       "  </thead>\n",
       "  <tbody>\n",
       "    <tr>\n",
       "      <th>0</th>\n",
       "      <td>Question</td>\n",
       "      <td>Context</td>\n",
       "      <td>Answer</td>\n",
       "    </tr>\n",
       "    <tr>\n",
       "      <th>1</th>\n",
       "      <td>பெரும்பான்மையான எஸ்டோனியர்கள் ஜெர்மானியர்களை எ...</td>\n",
       "      <td>சூழல்: ஆரம்பத்தில் ஜேர்மனியர்கள் சோவியத் ஒன்றி...</td>\n",
       "      <td>விடுதலை செய்பவர்கள்.</td>\n",
       "    </tr>\n",
       "    <tr>\n",
       "      <th>2</th>\n",
       "      <td>ஜப்பான் கையகப்படுத்துவதற்கு முன்பு இந்தோசீனாவை...</td>\n",
       "      <td>சூழல்: செப்டம்பர் 1940 இல், ஜப்பான் இந்தோசீனாவ...</td>\n",
       "      <td>விச்சி பிரான்ஸ்.</td>\n",
       "    </tr>\n",
       "    <tr>\n",
       "      <th>3</th>\n",
       "      <td>ஐரோப்பாவில் சீர்திருத்தத்திற்கு தலைமை தாங்கியவ...</td>\n",
       "      <td>சூழல்: ஐரோப்பாவில் சீர்திருத்தம் அதிகாரப்பூர்வ...</td>\n",
       "      <td>மார்ட்டின் லூதர்.</td>\n",
       "    </tr>\n",
       "    <tr>\n",
       "      <th>4</th>\n",
       "      <td>IMAX திரையரங்குகளில் திரையிடப்பட்ட முதல் ஜேம்ஸ...</td>\n",
       "      <td>சூழல்: ஸ்பெக்டர் 26 அக்டோபர் 2015 அன்று ஐக்கிய...</td>\n",
       "      <td>ஸ்கைஃபால்.</td>\n",
       "    </tr>\n",
       "    <tr>\n",
       "      <th>...</th>\n",
       "      <td>...</td>\n",
       "      <td>...</td>\n",
       "      <td>...</td>\n",
       "    </tr>\n",
       "    <tr>\n",
       "      <th>77969</th>\n",
       "      <td>எம்பயர் ஸ்டேட் கட்டிடம் எப்போது கட்டப்பட்டது?</td>\n",
       "      <td>சூழல்: 1916 மண்டலத் தீர்மானம் புதிய கட்டிடங்கள...</td>\n",
       "      <td>1931.</td>\n",
       "    </tr>\n",
       "    <tr>\n",
       "      <th>77970</th>\n",
       "      <td>புதிய நேச நாட்டு சமாதான திட்டத்தில், பிரான்ஸ் ...</td>\n",
       "      <td>சூழல்: நெப்போலியன், போரில் வெற்றி பெறுவார் என்...</td>\n",
       "      <td>பெல்ஜியம்.</td>\n",
       "    </tr>\n",
       "    <tr>\n",
       "      <th>77971</th>\n",
       "      <td>2006 FIBA ​​உலக சாம்பியன்ஷிப்பில் கிரேக்க கூடை...</td>\n",
       "      <td>சூழல்: கிரேக்க தேசிய கூடைப்பந்து அணியானது பல த...</td>\n",
       "      <td>அணி அமெரிக்கா.</td>\n",
       "    </tr>\n",
       "    <tr>\n",
       "      <th>77972</th>\n",
       "      <td>பட்டியலில் பிரேசில் இருந்ததா?</td>\n",
       "      <td>சூழல்: Maplecroft Child Labour Index 2012 கணக்...</td>\n",
       "      <td>பிரேசில் 54வது.</td>\n",
       "    </tr>\n",
       "    <tr>\n",
       "      <th>77973</th>\n",
       "      <td>1852 க்குப் பிறகு அமைக்கப்பட்ட கடலோர பீரங்கி ப...</td>\n",
       "      <td>சூழல்: பாயிண்ட் லோமா தீபகற்பத்தின் தெற்குப் பக...</td>\n",
       "      <td>ஃபோர்ட் ரோஸ்க்ரான்ஸ்.</td>\n",
       "    </tr>\n",
       "  </tbody>\n",
       "</table>\n",
       "<p>77974 rows × 3 columns</p>\n",
       "</div>"
      ],
      "text/plain": [
       "                                                 Column1  \\\n",
       "0                                               Question   \n",
       "1      பெரும்பான்மையான எஸ்டோனியர்கள் ஜெர்மானியர்களை எ...   \n",
       "2      ஜப்பான் கையகப்படுத்துவதற்கு முன்பு இந்தோசீனாவை...   \n",
       "3      ஐரோப்பாவில் சீர்திருத்தத்திற்கு தலைமை தாங்கியவ...   \n",
       "4      IMAX திரையரங்குகளில் திரையிடப்பட்ட முதல் ஜேம்ஸ...   \n",
       "...                                                  ...   \n",
       "77969      எம்பயர் ஸ்டேட் கட்டிடம் எப்போது கட்டப்பட்டது?   \n",
       "77970  புதிய நேச நாட்டு சமாதான திட்டத்தில், பிரான்ஸ் ...   \n",
       "77971  2006 FIBA ​​உலக சாம்பியன்ஷிப்பில் கிரேக்க கூடை...   \n",
       "77972                      பட்டியலில் பிரேசில் இருந்ததா?   \n",
       "77973  1852 க்குப் பிறகு அமைக்கப்பட்ட கடலோர பீரங்கி ப...   \n",
       "\n",
       "                                                 Column2  \\\n",
       "0                                                Context   \n",
       "1      சூழல்: ஆரம்பத்தில் ஜேர்மனியர்கள் சோவியத் ஒன்றி...   \n",
       "2      சூழல்: செப்டம்பர் 1940 இல், ஜப்பான் இந்தோசீனாவ...   \n",
       "3      சூழல்: ஐரோப்பாவில் சீர்திருத்தம் அதிகாரப்பூர்வ...   \n",
       "4      சூழல்: ஸ்பெக்டர் 26 அக்டோபர் 2015 அன்று ஐக்கிய...   \n",
       "...                                                  ...   \n",
       "77969  சூழல்: 1916 மண்டலத் தீர்மானம் புதிய கட்டிடங்கள...   \n",
       "77970  சூழல்: நெப்போலியன், போரில் வெற்றி பெறுவார் என்...   \n",
       "77971  சூழல்: கிரேக்க தேசிய கூடைப்பந்து அணியானது பல த...   \n",
       "77972  சூழல்: Maplecroft Child Labour Index 2012 கணக்...   \n",
       "77973  சூழல்: பாயிண்ட் லோமா தீபகற்பத்தின் தெற்குப் பக...   \n",
       "\n",
       "                     Column3  \n",
       "0                     Answer  \n",
       "1       விடுதலை செய்பவர்கள்.  \n",
       "2           விச்சி பிரான்ஸ்.  \n",
       "3          மார்ட்டின் லூதர்.  \n",
       "4                 ஸ்கைஃபால்.  \n",
       "...                      ...  \n",
       "77969                  1931.  \n",
       "77970             பெல்ஜியம்.  \n",
       "77971         அணி அமெரிக்கா.  \n",
       "77972        பிரேசில் 54வது.  \n",
       "77973  ஃபோர்ட் ரோஸ்க்ரான்ஸ்.  \n",
       "\n",
       "[77974 rows x 3 columns]"
      ]
     },
     "execution_count": 5,
     "metadata": {},
     "output_type": "execute_result"
    }
   ],
   "source": [
    "df"
   ]
  },
  {
   "cell_type": "code",
   "execution_count": 6,
   "metadata": {
    "execution": {
     "iopub.execute_input": "2025-05-24T08:46:05.364548Z",
     "iopub.status.busy": "2025-05-24T08:46:05.363758Z",
     "iopub.status.idle": "2025-05-24T08:46:05.373383Z",
     "shell.execute_reply": "2025-05-24T08:46:05.372585Z",
     "shell.execute_reply.started": "2025-05-24T08:46:05.364510Z"
    },
    "trusted": true
   },
   "outputs": [],
   "source": [
    "df = df.rename(columns={\"Column1\": \"question\", \"Column2\": \"context\", \"Column3\": \"answer\"})"
   ]
  },
  {
   "cell_type": "code",
   "execution_count": 7,
   "metadata": {
    "execution": {
     "iopub.execute_input": "2025-05-24T08:46:09.830112Z",
     "iopub.status.busy": "2025-05-24T08:46:09.829839Z",
     "iopub.status.idle": "2025-05-24T08:46:09.847191Z",
     "shell.execute_reply": "2025-05-24T08:46:09.846245Z",
     "shell.execute_reply.started": "2025-05-24T08:46:09.830092Z"
    },
    "trusted": true
   },
   "outputs": [
    {
     "data": {
      "text/html": [
       "<div>\n",
       "<style scoped>\n",
       "    .dataframe tbody tr th:only-of-type {\n",
       "        vertical-align: middle;\n",
       "    }\n",
       "\n",
       "    .dataframe tbody tr th {\n",
       "        vertical-align: top;\n",
       "    }\n",
       "\n",
       "    .dataframe thead th {\n",
       "        text-align: right;\n",
       "    }\n",
       "</style>\n",
       "<table border=\"1\" class=\"dataframe\">\n",
       "  <thead>\n",
       "    <tr style=\"text-align: right;\">\n",
       "      <th></th>\n",
       "      <th>question</th>\n",
       "      <th>context</th>\n",
       "      <th>answer</th>\n",
       "    </tr>\n",
       "  </thead>\n",
       "  <tbody>\n",
       "    <tr>\n",
       "      <th>0</th>\n",
       "      <td>பெரும்பான்மையான எஸ்டோனியர்கள் ஜெர்மானியர்களை எ...</td>\n",
       "      <td>சூழல்: ஆரம்பத்தில் ஜேர்மனியர்கள் சோவியத் ஒன்றி...</td>\n",
       "      <td>விடுதலை செய்பவர்கள்.</td>\n",
       "    </tr>\n",
       "    <tr>\n",
       "      <th>1</th>\n",
       "      <td>ஜப்பான் கையகப்படுத்துவதற்கு முன்பு இந்தோசீனாவை...</td>\n",
       "      <td>சூழல்: செப்டம்பர் 1940 இல், ஜப்பான் இந்தோசீனாவ...</td>\n",
       "      <td>விச்சி பிரான்ஸ்.</td>\n",
       "    </tr>\n",
       "    <tr>\n",
       "      <th>2</th>\n",
       "      <td>ஐரோப்பாவில் சீர்திருத்தத்திற்கு தலைமை தாங்கியவ...</td>\n",
       "      <td>சூழல்: ஐரோப்பாவில் சீர்திருத்தம் அதிகாரப்பூர்வ...</td>\n",
       "      <td>மார்ட்டின் லூதர்.</td>\n",
       "    </tr>\n",
       "    <tr>\n",
       "      <th>3</th>\n",
       "      <td>IMAX திரையரங்குகளில் திரையிடப்பட்ட முதல் ஜேம்ஸ...</td>\n",
       "      <td>சூழல்: ஸ்பெக்டர் 26 அக்டோபர் 2015 அன்று ஐக்கிய...</td>\n",
       "      <td>ஸ்கைஃபால்.</td>\n",
       "    </tr>\n",
       "    <tr>\n",
       "      <th>4</th>\n",
       "      <td>சவுத்தாம்ப்டனில் என்ன வகையான காலநிலை உள்ளது?</td>\n",
       "      <td>சூழல்: UK இன் மற்ற பகுதிகளைப் போலவே, சவுத்தாம்...</td>\n",
       "      <td>கடல் சார்ந்த.</td>\n",
       "    </tr>\n",
       "    <tr>\n",
       "      <th>...</th>\n",
       "      <td>...</td>\n",
       "      <td>...</td>\n",
       "      <td>...</td>\n",
       "    </tr>\n",
       "    <tr>\n",
       "      <th>77968</th>\n",
       "      <td>எம்பயர் ஸ்டேட் கட்டிடம் எப்போது கட்டப்பட்டது?</td>\n",
       "      <td>சூழல்: 1916 மண்டலத் தீர்மானம் புதிய கட்டிடங்கள...</td>\n",
       "      <td>1931.</td>\n",
       "    </tr>\n",
       "    <tr>\n",
       "      <th>77969</th>\n",
       "      <td>புதிய நேச நாட்டு சமாதான திட்டத்தில், பிரான்ஸ் ...</td>\n",
       "      <td>சூழல்: நெப்போலியன், போரில் வெற்றி பெறுவார் என்...</td>\n",
       "      <td>பெல்ஜியம்.</td>\n",
       "    </tr>\n",
       "    <tr>\n",
       "      <th>77970</th>\n",
       "      <td>2006 FIBA ​​உலக சாம்பியன்ஷிப்பில் கிரேக்க கூடை...</td>\n",
       "      <td>சூழல்: கிரேக்க தேசிய கூடைப்பந்து அணியானது பல த...</td>\n",
       "      <td>அணி அமெரிக்கா.</td>\n",
       "    </tr>\n",
       "    <tr>\n",
       "      <th>77971</th>\n",
       "      <td>பட்டியலில் பிரேசில் இருந்ததா?</td>\n",
       "      <td>சூழல்: Maplecroft Child Labour Index 2012 கணக்...</td>\n",
       "      <td>பிரேசில் 54வது.</td>\n",
       "    </tr>\n",
       "    <tr>\n",
       "      <th>77972</th>\n",
       "      <td>1852 க்குப் பிறகு அமைக்கப்பட்ட கடலோர பீரங்கி ப...</td>\n",
       "      <td>சூழல்: பாயிண்ட் லோமா தீபகற்பத்தின் தெற்குப் பக...</td>\n",
       "      <td>ஃபோர்ட் ரோஸ்க்ரான்ஸ்.</td>\n",
       "    </tr>\n",
       "  </tbody>\n",
       "</table>\n",
       "<p>77973 rows × 3 columns</p>\n",
       "</div>"
      ],
      "text/plain": [
       "                                                question  \\\n",
       "0      பெரும்பான்மையான எஸ்டோனியர்கள் ஜெர்மானியர்களை எ...   \n",
       "1      ஜப்பான் கையகப்படுத்துவதற்கு முன்பு இந்தோசீனாவை...   \n",
       "2      ஐரோப்பாவில் சீர்திருத்தத்திற்கு தலைமை தாங்கியவ...   \n",
       "3      IMAX திரையரங்குகளில் திரையிடப்பட்ட முதல் ஜேம்ஸ...   \n",
       "4           சவுத்தாம்ப்டனில் என்ன வகையான காலநிலை உள்ளது?   \n",
       "...                                                  ...   \n",
       "77968      எம்பயர் ஸ்டேட் கட்டிடம் எப்போது கட்டப்பட்டது?   \n",
       "77969  புதிய நேச நாட்டு சமாதான திட்டத்தில், பிரான்ஸ் ...   \n",
       "77970  2006 FIBA ​​உலக சாம்பியன்ஷிப்பில் கிரேக்க கூடை...   \n",
       "77971                      பட்டியலில் பிரேசில் இருந்ததா?   \n",
       "77972  1852 க்குப் பிறகு அமைக்கப்பட்ட கடலோர பீரங்கி ப...   \n",
       "\n",
       "                                                 context  \\\n",
       "0      சூழல்: ஆரம்பத்தில் ஜேர்மனியர்கள் சோவியத் ஒன்றி...   \n",
       "1      சூழல்: செப்டம்பர் 1940 இல், ஜப்பான் இந்தோசீனாவ...   \n",
       "2      சூழல்: ஐரோப்பாவில் சீர்திருத்தம் அதிகாரப்பூர்வ...   \n",
       "3      சூழல்: ஸ்பெக்டர் 26 அக்டோபர் 2015 அன்று ஐக்கிய...   \n",
       "4      சூழல்: UK இன் மற்ற பகுதிகளைப் போலவே, சவுத்தாம்...   \n",
       "...                                                  ...   \n",
       "77968  சூழல்: 1916 மண்டலத் தீர்மானம் புதிய கட்டிடங்கள...   \n",
       "77969  சூழல்: நெப்போலியன், போரில் வெற்றி பெறுவார் என்...   \n",
       "77970  சூழல்: கிரேக்க தேசிய கூடைப்பந்து அணியானது பல த...   \n",
       "77971  சூழல்: Maplecroft Child Labour Index 2012 கணக்...   \n",
       "77972  சூழல்: பாயிண்ட் லோமா தீபகற்பத்தின் தெற்குப் பக...   \n",
       "\n",
       "                      answer  \n",
       "0       விடுதலை செய்பவர்கள்.  \n",
       "1           விச்சி பிரான்ஸ்.  \n",
       "2          மார்ட்டின் லூதர்.  \n",
       "3                 ஸ்கைஃபால்.  \n",
       "4              கடல் சார்ந்த.  \n",
       "...                      ...  \n",
       "77968                  1931.  \n",
       "77969             பெல்ஜியம்.  \n",
       "77970         அணி அமெரிக்கா.  \n",
       "77971        பிரேசில் 54வது.  \n",
       "77972  ஃபோர்ட் ரோஸ்க்ரான்ஸ்.  \n",
       "\n",
       "[77973 rows x 3 columns]"
      ]
     },
     "execution_count": 7,
     "metadata": {},
     "output_type": "execute_result"
    }
   ],
   "source": [
    "df = df.iloc[1:].reset_index(drop=True)\n",
    "df"
   ]
  },
  {
   "cell_type": "code",
   "execution_count": 8,
   "metadata": {
    "execution": {
     "iopub.execute_input": "2025-05-24T08:46:14.018247Z",
     "iopub.status.busy": "2025-05-24T08:46:14.017718Z",
     "iopub.status.idle": "2025-05-24T08:46:14.052502Z",
     "shell.execute_reply": "2025-05-24T08:46:14.051948Z",
     "shell.execute_reply.started": "2025-05-24T08:46:14.018221Z"
    },
    "trusted": true
   },
   "outputs": [],
   "source": [
    "# Drop rows with missing context or answer\n",
    "df.dropna(subset=[\"context\", \"answer\"], inplace=True)\n",
    "\n",
    "# Ensure context and answer are strings\n",
    "df[\"context\"] = df[\"context\"].astype(str)\n",
    "df[\"answer\"] = df[\"answer\"].astype(str)"
   ]
  },
  {
   "cell_type": "code",
   "execution_count": 9,
   "metadata": {
    "execution": {
     "iopub.execute_input": "2025-05-24T08:46:19.084315Z",
     "iopub.status.busy": "2025-05-24T08:46:19.083762Z",
     "iopub.status.idle": "2025-05-24T08:46:19.092953Z",
     "shell.execute_reply": "2025-05-24T08:46:19.092203Z",
     "shell.execute_reply.started": "2025-05-24T08:46:19.084292Z"
    },
    "trusted": true
   },
   "outputs": [
    {
     "data": {
      "text/html": [
       "<div>\n",
       "<style scoped>\n",
       "    .dataframe tbody tr th:only-of-type {\n",
       "        vertical-align: middle;\n",
       "    }\n",
       "\n",
       "    .dataframe tbody tr th {\n",
       "        vertical-align: top;\n",
       "    }\n",
       "\n",
       "    .dataframe thead th {\n",
       "        text-align: right;\n",
       "    }\n",
       "</style>\n",
       "<table border=\"1\" class=\"dataframe\">\n",
       "  <thead>\n",
       "    <tr style=\"text-align: right;\">\n",
       "      <th></th>\n",
       "      <th>question</th>\n",
       "      <th>context</th>\n",
       "      <th>answer</th>\n",
       "    </tr>\n",
       "  </thead>\n",
       "  <tbody>\n",
       "    <tr>\n",
       "      <th>0</th>\n",
       "      <td>பெரும்பான்மையான எஸ்டோனியர்கள் ஜெர்மானியர்களை எ...</td>\n",
       "      <td>சூழல்: ஆரம்பத்தில் ஜேர்மனியர்கள் சோவியத் ஒன்றி...</td>\n",
       "      <td>விடுதலை செய்பவர்கள்.</td>\n",
       "    </tr>\n",
       "    <tr>\n",
       "      <th>1</th>\n",
       "      <td>ஜப்பான் கையகப்படுத்துவதற்கு முன்பு இந்தோசீனாவை...</td>\n",
       "      <td>சூழல்: செப்டம்பர் 1940 இல், ஜப்பான் இந்தோசீனாவ...</td>\n",
       "      <td>விச்சி பிரான்ஸ்.</td>\n",
       "    </tr>\n",
       "    <tr>\n",
       "      <th>2</th>\n",
       "      <td>ஐரோப்பாவில் சீர்திருத்தத்திற்கு தலைமை தாங்கியவ...</td>\n",
       "      <td>சூழல்: ஐரோப்பாவில் சீர்திருத்தம் அதிகாரப்பூர்வ...</td>\n",
       "      <td>மார்ட்டின் லூதர்.</td>\n",
       "    </tr>\n",
       "    <tr>\n",
       "      <th>3</th>\n",
       "      <td>IMAX திரையரங்குகளில் திரையிடப்பட்ட முதல் ஜேம்ஸ...</td>\n",
       "      <td>சூழல்: ஸ்பெக்டர் 26 அக்டோபர் 2015 அன்று ஐக்கிய...</td>\n",
       "      <td>ஸ்கைஃபால்.</td>\n",
       "    </tr>\n",
       "    <tr>\n",
       "      <th>4</th>\n",
       "      <td>சவுத்தாம்ப்டனில் என்ன வகையான காலநிலை உள்ளது?</td>\n",
       "      <td>சூழல்: UK இன் மற்ற பகுதிகளைப் போலவே, சவுத்தாம்...</td>\n",
       "      <td>கடல் சார்ந்த.</td>\n",
       "    </tr>\n",
       "    <tr>\n",
       "      <th>...</th>\n",
       "      <td>...</td>\n",
       "      <td>...</td>\n",
       "      <td>...</td>\n",
       "    </tr>\n",
       "    <tr>\n",
       "      <th>77968</th>\n",
       "      <td>எம்பயர் ஸ்டேட் கட்டிடம் எப்போது கட்டப்பட்டது?</td>\n",
       "      <td>சூழல்: 1916 மண்டலத் தீர்மானம் புதிய கட்டிடங்கள...</td>\n",
       "      <td>1931.</td>\n",
       "    </tr>\n",
       "    <tr>\n",
       "      <th>77969</th>\n",
       "      <td>புதிய நேச நாட்டு சமாதான திட்டத்தில், பிரான்ஸ் ...</td>\n",
       "      <td>சூழல்: நெப்போலியன், போரில் வெற்றி பெறுவார் என்...</td>\n",
       "      <td>பெல்ஜியம்.</td>\n",
       "    </tr>\n",
       "    <tr>\n",
       "      <th>77970</th>\n",
       "      <td>2006 FIBA ​​உலக சாம்பியன்ஷிப்பில் கிரேக்க கூடை...</td>\n",
       "      <td>சூழல்: கிரேக்க தேசிய கூடைப்பந்து அணியானது பல த...</td>\n",
       "      <td>அணி அமெரிக்கா.</td>\n",
       "    </tr>\n",
       "    <tr>\n",
       "      <th>77971</th>\n",
       "      <td>பட்டியலில் பிரேசில் இருந்ததா?</td>\n",
       "      <td>சூழல்: Maplecroft Child Labour Index 2012 கணக்...</td>\n",
       "      <td>பிரேசில் 54வது.</td>\n",
       "    </tr>\n",
       "    <tr>\n",
       "      <th>77972</th>\n",
       "      <td>1852 க்குப் பிறகு அமைக்கப்பட்ட கடலோர பீரங்கி ப...</td>\n",
       "      <td>சூழல்: பாயிண்ட் லோமா தீபகற்பத்தின் தெற்குப் பக...</td>\n",
       "      <td>ஃபோர்ட் ரோஸ்க்ரான்ஸ்.</td>\n",
       "    </tr>\n",
       "  </tbody>\n",
       "</table>\n",
       "<p>77570 rows × 3 columns</p>\n",
       "</div>"
      ],
      "text/plain": [
       "                                                question  \\\n",
       "0      பெரும்பான்மையான எஸ்டோனியர்கள் ஜெர்மானியர்களை எ...   \n",
       "1      ஜப்பான் கையகப்படுத்துவதற்கு முன்பு இந்தோசீனாவை...   \n",
       "2      ஐரோப்பாவில் சீர்திருத்தத்திற்கு தலைமை தாங்கியவ...   \n",
       "3      IMAX திரையரங்குகளில் திரையிடப்பட்ட முதல் ஜேம்ஸ...   \n",
       "4           சவுத்தாம்ப்டனில் என்ன வகையான காலநிலை உள்ளது?   \n",
       "...                                                  ...   \n",
       "77968      எம்பயர் ஸ்டேட் கட்டிடம் எப்போது கட்டப்பட்டது?   \n",
       "77969  புதிய நேச நாட்டு சமாதான திட்டத்தில், பிரான்ஸ் ...   \n",
       "77970  2006 FIBA ​​உலக சாம்பியன்ஷிப்பில் கிரேக்க கூடை...   \n",
       "77971                      பட்டியலில் பிரேசில் இருந்ததா?   \n",
       "77972  1852 க்குப் பிறகு அமைக்கப்பட்ட கடலோர பீரங்கி ப...   \n",
       "\n",
       "                                                 context  \\\n",
       "0      சூழல்: ஆரம்பத்தில் ஜேர்மனியர்கள் சோவியத் ஒன்றி...   \n",
       "1      சூழல்: செப்டம்பர் 1940 இல், ஜப்பான் இந்தோசீனாவ...   \n",
       "2      சூழல்: ஐரோப்பாவில் சீர்திருத்தம் அதிகாரப்பூர்வ...   \n",
       "3      சூழல்: ஸ்பெக்டர் 26 அக்டோபர் 2015 அன்று ஐக்கிய...   \n",
       "4      சூழல்: UK இன் மற்ற பகுதிகளைப் போலவே, சவுத்தாம்...   \n",
       "...                                                  ...   \n",
       "77968  சூழல்: 1916 மண்டலத் தீர்மானம் புதிய கட்டிடங்கள...   \n",
       "77969  சூழல்: நெப்போலியன், போரில் வெற்றி பெறுவார் என்...   \n",
       "77970  சூழல்: கிரேக்க தேசிய கூடைப்பந்து அணியானது பல த...   \n",
       "77971  சூழல்: Maplecroft Child Labour Index 2012 கணக்...   \n",
       "77972  சூழல்: பாயிண்ட் லோமா தீபகற்பத்தின் தெற்குப் பக...   \n",
       "\n",
       "                      answer  \n",
       "0       விடுதலை செய்பவர்கள்.  \n",
       "1           விச்சி பிரான்ஸ்.  \n",
       "2          மார்ட்டின் லூதர்.  \n",
       "3                 ஸ்கைஃபால்.  \n",
       "4              கடல் சார்ந்த.  \n",
       "...                      ...  \n",
       "77968                  1931.  \n",
       "77969             பெல்ஜியம்.  \n",
       "77970         அணி அமெரிக்கா.  \n",
       "77971        பிரேசில் 54வது.  \n",
       "77972  ஃபோர்ட் ரோஸ்க்ரான்ஸ்.  \n",
       "\n",
       "[77570 rows x 3 columns]"
      ]
     },
     "execution_count": 9,
     "metadata": {},
     "output_type": "execute_result"
    }
   ],
   "source": [
    "df"
   ]
  },
  {
   "cell_type": "code",
   "execution_count": 10,
   "metadata": {
    "execution": {
     "iopub.execute_input": "2025-05-24T08:46:29.506700Z",
     "iopub.status.busy": "2025-05-24T08:46:29.505930Z",
     "iopub.status.idle": "2025-05-24T08:46:33.808026Z",
     "shell.execute_reply": "2025-05-24T08:46:33.807504Z",
     "shell.execute_reply.started": "2025-05-24T08:46:29.506675Z"
    },
    "trusted": true
   },
   "outputs": [],
   "source": [
    "def fuzzy_match_answer(row, threshold=0.75):\n",
    "    context = str(row[\"context\"]) if pd.notnull(row[\"context\"]) else \"\"\n",
    "    answer = str(row[\"answer\"]) if pd.notnull(row[\"answer\"]) else \"\"\n",
    "\n",
    "    answer_len = len(answer)\n",
    "    best_match_start = -1\n",
    "    best_match_len = 0\n",
    "\n",
    "    # Sliding window to check partial matches\n",
    "    for i in range(answer_len):\n",
    "        for j in range(i + int(threshold * answer_len), answer_len + 1):\n",
    "            substring = answer[i:j]\n",
    "            start_idx = context.find(substring)\n",
    "            if start_idx != -1 and (j - i) > best_match_len:\n",
    "                best_match_len = j - i\n",
    "                best_match_start = start_idx\n",
    "\n",
    "    if best_match_len >= threshold * answer_len:\n",
    "        return {\n",
    "            \"text\": [answer],\n",
    "            \"answer_start\": [best_match_start]\n",
    "        }\n",
    "    else:\n",
    "        return {\n",
    "            \"text\": [answer],\n",
    "            \"answer_start\": [0]  # default when not found\n",
    "        }\n",
    "\n",
    "# Apply to the dataframe\n",
    "df[\"answers\"] = df.apply(fuzzy_match_answer, axis=1)\n"
   ]
  },
  {
   "cell_type": "code",
   "execution_count": 12,
   "metadata": {
    "execution": {
     "iopub.execute_input": "2025-05-24T08:47:05.650615Z",
     "iopub.status.busy": "2025-05-24T08:47:05.650286Z",
     "iopub.status.idle": "2025-05-24T08:47:05.659102Z",
     "shell.execute_reply": "2025-05-24T08:47:05.658299Z",
     "shell.execute_reply.started": "2025-05-24T08:47:05.650595Z"
    },
    "trusted": true
   },
   "outputs": [
    {
     "data": {
      "text/plain": [
       "0        {'text': ['விடுதலை செய்பவர்கள்.'], 'answer_sta...\n",
       "1        {'text': ['விச்சி பிரான்ஸ்.'], 'answer_start':...\n",
       "2        {'text': ['மார்ட்டின் லூதர்.'], 'answer_start'...\n",
       "3          {'text': ['ஸ்கைஃபால்.'], 'answer_start': [245]}\n",
       "4         {'text': ['கடல் சார்ந்த.'], 'answer_start': [0]}\n",
       "                               ...                        \n",
       "77968           {'text': ['1931.'], 'answer_start': [260]}\n",
       "77969        {'text': ['பெல்ஜியம்.'], 'answer_start': [0]}\n",
       "77970    {'text': ['அணி அமெரிக்கா.'], 'answer_start': [...\n",
       "77971    {'text': ['பிரேசில் 54வது.'], 'answer_start': ...\n",
       "77972    {'text': ['ஃபோர்ட் ரோஸ்க்ரான்ஸ்.'], 'answer_st...\n",
       "Name: answers, Length: 77570, dtype: object"
      ]
     },
     "execution_count": 12,
     "metadata": {},
     "output_type": "execute_result"
    }
   ],
   "source": [
    "df['answers']"
   ]
  },
  {
   "cell_type": "code",
   "execution_count": 13,
   "metadata": {
    "execution": {
     "iopub.execute_input": "2025-05-24T08:47:22.626184Z",
     "iopub.status.busy": "2025-05-24T08:47:22.625474Z",
     "iopub.status.idle": "2025-05-24T08:47:22.648727Z",
     "shell.execute_reply": "2025-05-24T08:47:22.648006Z",
     "shell.execute_reply.started": "2025-05-24T08:47:22.626154Z"
    },
    "trusted": true
   },
   "outputs": [
    {
     "name": "stdout",
     "output_type": "stream",
     "text": [
      "Number of rows with answer_start = 0: 26224\n"
     ]
    }
   ],
   "source": [
    "# Count number of rows where answer_start is 0\n",
    "num_missing_answers = df[\"answers\"].apply(lambda x: x[\"answer_start\"][0] == 0).sum()\n",
    "\n",
    "print(f\"Number of rows with answer_start = 0: {num_missing_answers}\")"
   ]
  },
  {
   "cell_type": "code",
   "execution_count": 14,
   "metadata": {
    "execution": {
     "iopub.execute_input": "2025-05-24T08:49:39.190010Z",
     "iopub.status.busy": "2025-05-24T08:49:39.189431Z",
     "iopub.status.idle": "2025-05-24T08:49:39.228728Z",
     "shell.execute_reply": "2025-05-24T08:49:39.227948Z",
     "shell.execute_reply.started": "2025-05-24T08:49:39.189986Z"
    },
    "trusted": true
   },
   "outputs": [],
   "source": [
    "df = df[df[\"answers\"].apply(lambda x: x[\"answer_start\"][0] != 0)].reset_index(drop=True)"
   ]
  },
  {
   "cell_type": "code",
   "execution_count": 15,
   "metadata": {
    "execution": {
     "iopub.execute_input": "2025-05-24T08:49:44.794501Z",
     "iopub.status.busy": "2025-05-24T08:49:44.793816Z",
     "iopub.status.idle": "2025-05-24T08:49:44.807229Z",
     "shell.execute_reply": "2025-05-24T08:49:44.806385Z",
     "shell.execute_reply.started": "2025-05-24T08:49:44.794477Z"
    },
    "trusted": true
   },
   "outputs": [
    {
     "data": {
      "text/html": [
       "<div>\n",
       "<style scoped>\n",
       "    .dataframe tbody tr th:only-of-type {\n",
       "        vertical-align: middle;\n",
       "    }\n",
       "\n",
       "    .dataframe tbody tr th {\n",
       "        vertical-align: top;\n",
       "    }\n",
       "\n",
       "    .dataframe thead th {\n",
       "        text-align: right;\n",
       "    }\n",
       "</style>\n",
       "<table border=\"1\" class=\"dataframe\">\n",
       "  <thead>\n",
       "    <tr style=\"text-align: right;\">\n",
       "      <th></th>\n",
       "      <th>question</th>\n",
       "      <th>context</th>\n",
       "      <th>answer</th>\n",
       "      <th>answers</th>\n",
       "    </tr>\n",
       "  </thead>\n",
       "  <tbody>\n",
       "    <tr>\n",
       "      <th>0</th>\n",
       "      <td>ஜப்பான் கையகப்படுத்துவதற்கு முன்பு இந்தோசீனாவை...</td>\n",
       "      <td>சூழல்: செப்டம்பர் 1940 இல், ஜப்பான் இந்தோசீனாவ...</td>\n",
       "      <td>விச்சி பிரான்ஸ்.</td>\n",
       "      <td>{'text': ['விச்சி பிரான்ஸ்.'], 'answer_start':...</td>\n",
       "    </tr>\n",
       "    <tr>\n",
       "      <th>1</th>\n",
       "      <td>ஐரோப்பாவில் சீர்திருத்தத்திற்கு தலைமை தாங்கியவ...</td>\n",
       "      <td>சூழல்: ஐரோப்பாவில் சீர்திருத்தம் அதிகாரப்பூர்வ...</td>\n",
       "      <td>மார்ட்டின் லூதர்.</td>\n",
       "      <td>{'text': ['மார்ட்டின் லூதர்.'], 'answer_start'...</td>\n",
       "    </tr>\n",
       "    <tr>\n",
       "      <th>2</th>\n",
       "      <td>IMAX திரையரங்குகளில் திரையிடப்பட்ட முதல் ஜேம்ஸ...</td>\n",
       "      <td>சூழல்: ஸ்பெக்டர் 26 அக்டோபர் 2015 அன்று ஐக்கிய...</td>\n",
       "      <td>ஸ்கைஃபால்.</td>\n",
       "      <td>{'text': ['ஸ்கைஃபால்.'], 'answer_start': [245]}</td>\n",
       "    </tr>\n",
       "    <tr>\n",
       "      <th>3</th>\n",
       "      <td>எந்த வகையான தாவரங்கள் ஒருபோதும் இதய மரத்தை உரு...</td>\n",
       "      <td>சூழல்: ஹார்ட்வுட் பெரும்பாலும் உயிருள்ள சப்வுட...</td>\n",
       "      <td>மரத்தாலான.</td>\n",
       "      <td>{'text': ['மரத்தாலான.'], 'answer_start': [328]}</td>\n",
       "    </tr>\n",
       "    <tr>\n",
       "      <th>4</th>\n",
       "      <td>எந்த குழுக்கள் மேட்ரிக்ஸ் பெருக்கத்துடன் மெட்ர...</td>\n",
       "      <td>சூழல்: மேட்ரிக்ஸ் குழுக்கள் மேட்ரிக்ஸ் பெருக்க...</td>\n",
       "      <td>மேட்ரிக்ஸ் குழுக்கள்.</td>\n",
       "      <td>{'text': ['மேட்ரிக்ஸ் குழுக்கள்.'], 'answer_st...</td>\n",
       "    </tr>\n",
       "    <tr>\n",
       "      <th>...</th>\n",
       "      <td>...</td>\n",
       "      <td>...</td>\n",
       "      <td>...</td>\n",
       "      <td>...</td>\n",
       "    </tr>\n",
       "    <tr>\n",
       "      <th>51341</th>\n",
       "      <td>1924 தேர்தலில் எத்தனை எம்.பி.</td>\n",
       "      <td>சூழல்: 1923 பொதுத் தேர்தல் கன்சர்வேடிவ்களின் ப...</td>\n",
       "      <td>191.</td>\n",
       "      <td>{'text': ['191.'], 'answer_start': [463]}</td>\n",
       "    </tr>\n",
       "    <tr>\n",
       "      <th>51342</th>\n",
       "      <td>எம்பயர் ஸ்டேட் கட்டிடம் எப்போது கட்டப்பட்டது?</td>\n",
       "      <td>சூழல்: 1916 மண்டலத் தீர்மானம் புதிய கட்டிடங்கள...</td>\n",
       "      <td>1931.</td>\n",
       "      <td>{'text': ['1931.'], 'answer_start': [260]}</td>\n",
       "    </tr>\n",
       "    <tr>\n",
       "      <th>51343</th>\n",
       "      <td>2006 FIBA ​​உலக சாம்பியன்ஷிப்பில் கிரேக்க கூடை...</td>\n",
       "      <td>சூழல்: கிரேக்க தேசிய கூடைப்பந்து அணியானது பல த...</td>\n",
       "      <td>அணி அமெரிக்கா.</td>\n",
       "      <td>{'text': ['அணி அமெரிக்கா.'], 'answer_start': [...</td>\n",
       "    </tr>\n",
       "    <tr>\n",
       "      <th>51344</th>\n",
       "      <td>பட்டியலில் பிரேசில் இருந்ததா?</td>\n",
       "      <td>சூழல்: Maplecroft Child Labour Index 2012 கணக்...</td>\n",
       "      <td>பிரேசில் 54வது.</td>\n",
       "      <td>{'text': ['பிரேசில் 54வது.'], 'answer_start': ...</td>\n",
       "    </tr>\n",
       "    <tr>\n",
       "      <th>51345</th>\n",
       "      <td>1852 க்குப் பிறகு அமைக்கப்பட்ட கடலோர பீரங்கி ப...</td>\n",
       "      <td>சூழல்: பாயிண்ட் லோமா தீபகற்பத்தின் தெற்குப் பக...</td>\n",
       "      <td>ஃபோர்ட் ரோஸ்க்ரான்ஸ்.</td>\n",
       "      <td>{'text': ['ஃபோர்ட் ரோஸ்க்ரான்ஸ்.'], 'answer_st...</td>\n",
       "    </tr>\n",
       "  </tbody>\n",
       "</table>\n",
       "<p>51346 rows × 4 columns</p>\n",
       "</div>"
      ],
      "text/plain": [
       "                                                question  \\\n",
       "0      ஜப்பான் கையகப்படுத்துவதற்கு முன்பு இந்தோசீனாவை...   \n",
       "1      ஐரோப்பாவில் சீர்திருத்தத்திற்கு தலைமை தாங்கியவ...   \n",
       "2      IMAX திரையரங்குகளில் திரையிடப்பட்ட முதல் ஜேம்ஸ...   \n",
       "3      எந்த வகையான தாவரங்கள் ஒருபோதும் இதய மரத்தை உரு...   \n",
       "4      எந்த குழுக்கள் மேட்ரிக்ஸ் பெருக்கத்துடன் மெட்ர...   \n",
       "...                                                  ...   \n",
       "51341                      1924 தேர்தலில் எத்தனை எம்.பி.   \n",
       "51342      எம்பயர் ஸ்டேட் கட்டிடம் எப்போது கட்டப்பட்டது?   \n",
       "51343  2006 FIBA ​​உலக சாம்பியன்ஷிப்பில் கிரேக்க கூடை...   \n",
       "51344                      பட்டியலில் பிரேசில் இருந்ததா?   \n",
       "51345  1852 க்குப் பிறகு அமைக்கப்பட்ட கடலோர பீரங்கி ப...   \n",
       "\n",
       "                                                 context  \\\n",
       "0      சூழல்: செப்டம்பர் 1940 இல், ஜப்பான் இந்தோசீனாவ...   \n",
       "1      சூழல்: ஐரோப்பாவில் சீர்திருத்தம் அதிகாரப்பூர்வ...   \n",
       "2      சூழல்: ஸ்பெக்டர் 26 அக்டோபர் 2015 அன்று ஐக்கிய...   \n",
       "3      சூழல்: ஹார்ட்வுட் பெரும்பாலும் உயிருள்ள சப்வுட...   \n",
       "4      சூழல்: மேட்ரிக்ஸ் குழுக்கள் மேட்ரிக்ஸ் பெருக்க...   \n",
       "...                                                  ...   \n",
       "51341  சூழல்: 1923 பொதுத் தேர்தல் கன்சர்வேடிவ்களின் ப...   \n",
       "51342  சூழல்: 1916 மண்டலத் தீர்மானம் புதிய கட்டிடங்கள...   \n",
       "51343  சூழல்: கிரேக்க தேசிய கூடைப்பந்து அணியானது பல த...   \n",
       "51344  சூழல்: Maplecroft Child Labour Index 2012 கணக்...   \n",
       "51345  சூழல்: பாயிண்ட் லோமா தீபகற்பத்தின் தெற்குப் பக...   \n",
       "\n",
       "                      answer  \\\n",
       "0           விச்சி பிரான்ஸ்.   \n",
       "1          மார்ட்டின் லூதர்.   \n",
       "2                 ஸ்கைஃபால்.   \n",
       "3                 மரத்தாலான.   \n",
       "4      மேட்ரிக்ஸ் குழுக்கள்.   \n",
       "...                      ...   \n",
       "51341                   191.   \n",
       "51342                  1931.   \n",
       "51343         அணி அமெரிக்கா.   \n",
       "51344        பிரேசில் 54வது.   \n",
       "51345  ஃபோர்ட் ரோஸ்க்ரான்ஸ்.   \n",
       "\n",
       "                                                 answers  \n",
       "0      {'text': ['விச்சி பிரான்ஸ்.'], 'answer_start':...  \n",
       "1      {'text': ['மார்ட்டின் லூதர்.'], 'answer_start'...  \n",
       "2        {'text': ['ஸ்கைஃபால்.'], 'answer_start': [245]}  \n",
       "3        {'text': ['மரத்தாலான.'], 'answer_start': [328]}  \n",
       "4      {'text': ['மேட்ரிக்ஸ் குழுக்கள்.'], 'answer_st...  \n",
       "...                                                  ...  \n",
       "51341          {'text': ['191.'], 'answer_start': [463]}  \n",
       "51342         {'text': ['1931.'], 'answer_start': [260]}  \n",
       "51343  {'text': ['அணி அமெரிக்கா.'], 'answer_start': [...  \n",
       "51344  {'text': ['பிரேசில் 54வது.'], 'answer_start': ...  \n",
       "51345  {'text': ['ஃபோர்ட் ரோஸ்க்ரான்ஸ்.'], 'answer_st...  \n",
       "\n",
       "[51346 rows x 4 columns]"
      ]
     },
     "execution_count": 15,
     "metadata": {},
     "output_type": "execute_result"
    }
   ],
   "source": [
    "df"
   ]
  },
  {
   "cell_type": "code",
   "execution_count": 16,
   "metadata": {
    "execution": {
     "iopub.execute_input": "2025-05-24T08:49:56.275585Z",
     "iopub.status.busy": "2025-05-24T08:49:56.275283Z",
     "iopub.status.idle": "2025-05-24T08:49:57.510446Z",
     "shell.execute_reply": "2025-05-24T08:49:57.509655Z",
     "shell.execute_reply.started": "2025-05-24T08:49:56.275567Z"
    },
    "trusted": true
   },
   "outputs": [],
   "source": [
    "dataset = Dataset.from_pandas(df)"
   ]
  },
  {
   "cell_type": "code",
   "execution_count": 17,
   "metadata": {
    "execution": {
     "iopub.execute_input": "2025-05-24T08:49:59.643213Z",
     "iopub.status.busy": "2025-05-24T08:49:59.642751Z",
     "iopub.status.idle": "2025-05-24T08:49:59.651075Z",
     "shell.execute_reply": "2025-05-24T08:49:59.650298Z",
     "shell.execute_reply.started": "2025-05-24T08:49:59.643190Z"
    },
    "trusted": true
   },
   "outputs": [],
   "source": [
    "def preprocess_function(examples):\n",
    "    questions = [q.strip() if isinstance(q, str) else \"\" for q in examples[\"question\"]]\n",
    "    contexts = [c if isinstance(c, str) else \"\" for c in examples[\"context\"]]\n",
    "    \n",
    "    inputs = tokenizer(\n",
    "        questions,\n",
    "        contexts,\n",
    "        max_length=384,\n",
    "        truncation=\"only_second\",\n",
    "        return_offsets_mapping=True,\n",
    "        padding=\"max_length\",\n",
    "    )\n",
    "\n",
    "    offset_mapping = inputs.pop(\"offset_mapping\")\n",
    "    start_positions = []\n",
    "    end_positions = []\n",
    "\n",
    "    for i, offsets in enumerate(offset_mapping):\n",
    "        context = contexts[i]\n",
    "        answer_data = examples[\"answers\"][i]\n",
    "        \n",
    "        if not answer_data or not answer_data.get(\"text\") or not answer_data.get(\"answer_start\"):\n",
    "            start_positions.append(0)\n",
    "            end_positions.append(0)\n",
    "            continue\n",
    "\n",
    "        answer_text = answer_data[\"text\"][0]\n",
    "        start_char = answer_data[\"answer_start\"][0]\n",
    "        end_char = start_char + len(answer_text)\n",
    "        sequence_ids = inputs.sequence_ids(i)\n",
    "\n",
    "        # Find context token start and end\n",
    "        context_start = None\n",
    "        context_end = None\n",
    "        for idx, seq_id in enumerate(sequence_ids):\n",
    "            if seq_id == 1 and context_start is None:\n",
    "                context_start = idx\n",
    "            if seq_id == 1:\n",
    "                context_end = idx\n",
    "\n",
    "        if context_start is None or context_end is None:\n",
    "            start_positions.append(0)\n",
    "            end_positions.append(0)\n",
    "            continue\n",
    "\n",
    "        # Skip if answer not in span\n",
    "        if offsets[context_start][0] > end_char or offsets[context_end][1] < start_char:\n",
    "            start_positions.append(0)\n",
    "            end_positions.append(0)\n",
    "            continue\n",
    "\n",
    "        # Token start index\n",
    "        idx = context_start\n",
    "        while idx <= context_end and offsets[idx][0] <= start_char:\n",
    "            idx += 1\n",
    "        start_positions.append(idx - 1)\n",
    "\n",
    "        # Token end index\n",
    "        idx = context_end\n",
    "        while idx >= context_start and offsets[idx][1] >= end_char:\n",
    "            idx -= 1\n",
    "        end_positions.append(idx + 1)\n",
    "\n",
    "    inputs[\"start_positions\"] = start_positions\n",
    "    inputs[\"end_positions\"] = end_positions\n",
    "    return inputs\n"
   ]
  },
  {
   "cell_type": "code",
   "execution_count": 18,
   "metadata": {
    "execution": {
     "iopub.execute_input": "2025-05-24T08:50:14.846830Z",
     "iopub.status.busy": "2025-05-24T08:50:14.846277Z",
     "iopub.status.idle": "2025-05-24T08:50:47.671075Z",
     "shell.execute_reply": "2025-05-24T08:50:47.670509Z",
     "shell.execute_reply.started": "2025-05-24T08:50:14.846806Z"
    },
    "trusted": true
   },
   "outputs": [
    {
     "data": {
      "application/vnd.jupyter.widget-view+json": {
       "model_id": "eeb1e38cf64e4d70b49784c7a36c91c7",
       "version_major": 2,
       "version_minor": 0
      },
      "text/plain": [
       "Map:   0%|          | 0/51346 [00:00<?, ? examples/s]"
      ]
     },
     "metadata": {},
     "output_type": "display_data"
    }
   ],
   "source": [
    "# Tokenize\n",
    "tokenized_dataset = dataset.map(\n",
    "    preprocess_function,\n",
    "    batched=True,\n",
    "    remove_columns=dataset.column_names\n",
    ")"
   ]
  },
  {
   "cell_type": "code",
   "execution_count": 19,
   "metadata": {
    "execution": {
     "iopub.execute_input": "2025-05-24T08:51:32.580100Z",
     "iopub.status.busy": "2025-05-24T08:51:32.579821Z",
     "iopub.status.idle": "2025-05-24T08:51:32.584919Z",
     "shell.execute_reply": "2025-05-24T08:51:32.584207Z",
     "shell.execute_reply.started": "2025-05-24T08:51:32.580080Z"
    },
    "trusted": true
   },
   "outputs": [
    {
     "data": {
      "text/plain": [
       "Dataset({\n",
       "    features: ['input_ids', 'attention_mask', 'start_positions', 'end_positions'],\n",
       "    num_rows: 51346\n",
       "})"
      ]
     },
     "execution_count": 19,
     "metadata": {},
     "output_type": "execute_result"
    }
   ],
   "source": [
    "tokenized_dataset"
   ]
  },
  {
   "cell_type": "code",
   "execution_count": 20,
   "metadata": {
    "execution": {
     "iopub.execute_input": "2025-05-24T08:51:36.826777Z",
     "iopub.status.busy": "2025-05-24T08:51:36.826508Z",
     "iopub.status.idle": "2025-05-24T08:51:36.846716Z",
     "shell.execute_reply": "2025-05-24T08:51:36.845985Z",
     "shell.execute_reply.started": "2025-05-24T08:51:36.826757Z"
    },
    "trusted": true
   },
   "outputs": [
    {
     "data": {
      "text/plain": [
       "DatasetDict({\n",
       "    train: Dataset({\n",
       "        features: ['input_ids', 'attention_mask', 'start_positions', 'end_positions'],\n",
       "        num_rows: 41076\n",
       "    })\n",
       "    test: Dataset({\n",
       "        features: ['input_ids', 'attention_mask', 'start_positions', 'end_positions'],\n",
       "        num_rows: 10270\n",
       "    })\n",
       "})"
      ]
     },
     "execution_count": 20,
     "metadata": {},
     "output_type": "execute_result"
    }
   ],
   "source": [
    "split_dataset = tokenized_dataset.train_test_split(test_size=0.2, seed=42)\n",
    "split_dataset"
   ]
  },
  {
   "cell_type": "code",
   "execution_count": 24,
   "metadata": {
    "execution": {
     "iopub.execute_input": "2025-05-24T08:55:54.049221Z",
     "iopub.status.busy": "2025-05-24T08:55:54.048656Z",
     "iopub.status.idle": "2025-05-24T08:55:54.080160Z",
     "shell.execute_reply": "2025-05-24T08:55:54.079644Z",
     "shell.execute_reply.started": "2025-05-24T08:55:54.049198Z"
    },
    "trusted": true
   },
   "outputs": [],
   "source": [
    "# Training args\n",
    "training_args = TrainingArguments(\n",
    "    output_dir=\"./results\",\n",
    "    eval_strategy=\"epoch\",\n",
    "    learning_rate=2e-5,\n",
    "    per_device_train_batch_size=16,\n",
    "    per_device_eval_batch_size=16,\n",
    "    num_train_epochs=5,\n",
    "    weight_decay=0.01,\n",
    "    save_strategy=\"epoch\",\n",
    "    logging_dir=\"./logs\",\n",
    "    load_best_model_at_end=True,\n",
    "    metric_for_best_model=\"eval_loss\",\n",
    "    greater_is_better=False,\n",
    "    report_to=[], \n",
    ")"
   ]
  },
  {
   "cell_type": "code",
   "execution_count": 25,
   "metadata": {
    "execution": {
     "iopub.execute_input": "2025-05-24T08:55:57.000567Z",
     "iopub.status.busy": "2025-05-24T08:55:56.999799Z",
     "iopub.status.idle": "2025-05-24T10:03:32.354902Z",
     "shell.execute_reply": "2025-05-24T10:03:32.354105Z",
     "shell.execute_reply.started": "2025-05-24T08:55:57.000543Z"
    },
    "trusted": true
   },
   "outputs": [
    {
     "name": "stderr",
     "output_type": "stream",
     "text": [
      "/tmp/ipykernel_75/1566634480.py:2: FutureWarning: `tokenizer` is deprecated and will be removed in version 5.0.0 for `Trainer.__init__`. Use `processing_class` instead.\n",
      "  trainer = Trainer(\n",
      "/usr/local/lib/python3.11/dist-packages/torch/nn/parallel/_functions.py:70: UserWarning: Was asked to gather along dimension 0, but all input tensors were scalars; will instead unsqueeze and return a vector.\n",
      "  warnings.warn(\n"
     ]
    },
    {
     "data": {
      "text/html": [
       "\n",
       "    <div>\n",
       "      \n",
       "      <progress value='6420' max='6420' style='width:300px; height:20px; vertical-align: middle;'></progress>\n",
       "      [6420/6420 1:07:34, Epoch 5/5]\n",
       "    </div>\n",
       "    <table border=\"1\" class=\"dataframe\">\n",
       "  <thead>\n",
       " <tr style=\"text-align: left;\">\n",
       "      <th>Epoch</th>\n",
       "      <th>Training Loss</th>\n",
       "      <th>Validation Loss</th>\n",
       "    </tr>\n",
       "  </thead>\n",
       "  <tbody>\n",
       "    <tr>\n",
       "      <td>1</td>\n",
       "      <td>4.120700</td>\n",
       "      <td>4.074160</td>\n",
       "    </tr>\n",
       "    <tr>\n",
       "      <td>2</td>\n",
       "      <td>4.001800</td>\n",
       "      <td>4.020981</td>\n",
       "    </tr>\n",
       "    <tr>\n",
       "      <td>3</td>\n",
       "      <td>3.937200</td>\n",
       "      <td>4.010736</td>\n",
       "    </tr>\n",
       "    <tr>\n",
       "      <td>4</td>\n",
       "      <td>3.904000</td>\n",
       "      <td>3.999824</td>\n",
       "    </tr>\n",
       "    <tr>\n",
       "      <td>5</td>\n",
       "      <td>3.881700</td>\n",
       "      <td>3.995830</td>\n",
       "    </tr>\n",
       "  </tbody>\n",
       "</table><p>"
      ],
      "text/plain": [
       "<IPython.core.display.HTML object>"
      ]
     },
     "metadata": {},
     "output_type": "display_data"
    },
    {
     "name": "stderr",
     "output_type": "stream",
     "text": [
      "/usr/local/lib/python3.11/dist-packages/torch/nn/parallel/_functions.py:70: UserWarning: Was asked to gather along dimension 0, but all input tensors were scalars; will instead unsqueeze and return a vector.\n",
      "  warnings.warn(\n",
      "/usr/local/lib/python3.11/dist-packages/torch/nn/parallel/_functions.py:70: UserWarning: Was asked to gather along dimension 0, but all input tensors were scalars; will instead unsqueeze and return a vector.\n",
      "  warnings.warn(\n",
      "/usr/local/lib/python3.11/dist-packages/torch/nn/parallel/_functions.py:70: UserWarning: Was asked to gather along dimension 0, but all input tensors were scalars; will instead unsqueeze and return a vector.\n",
      "  warnings.warn(\n",
      "/usr/local/lib/python3.11/dist-packages/torch/nn/parallel/_functions.py:70: UserWarning: Was asked to gather along dimension 0, but all input tensors were scalars; will instead unsqueeze and return a vector.\n",
      "  warnings.warn(\n"
     ]
    },
    {
     "data": {
      "text/plain": [
       "TrainOutput(global_step=6420, training_loss=3.979870130117066, metrics={'train_runtime': 4054.7932, 'train_samples_per_second': 50.651, 'train_steps_per_second': 1.583, 'total_flos': 1.193452193977344e+16, 'train_loss': 3.979870130117066, 'epoch': 5.0})"
      ]
     },
     "execution_count": 25,
     "metadata": {},
     "output_type": "execute_result"
    }
   ],
   "source": [
    "# Trainer\n",
    "trainer = Trainer(\n",
    "    model=model,\n",
    "    args=training_args,\n",
    "    train_dataset=split_dataset[\"train\"],\n",
    "    eval_dataset=split_dataset[\"test\"],\n",
    "    data_collator=default_data_collator,\n",
    "    tokenizer=tokenizer,\n",
    ")\n",
    "\n",
    "# Train model\n",
    "trainer.train()"
   ]
  },
  {
   "cell_type": "code",
   "execution_count": 26,
   "metadata": {
    "execution": {
     "iopub.execute_input": "2025-05-24T10:03:32.356248Z",
     "iopub.status.busy": "2025-05-24T10:03:32.356037Z",
     "iopub.status.idle": "2025-05-24T10:03:33.985635Z",
     "shell.execute_reply": "2025-05-24T10:03:33.985010Z",
     "shell.execute_reply.started": "2025-05-24T10:03:32.356232Z"
    },
    "trusted": true
   },
   "outputs": [
    {
     "data": {
      "text/plain": [
       "('/kaggle/working/fine_tuned_tamil_qa_model/tokenizer_config.json',\n",
       " '/kaggle/working/fine_tuned_tamil_qa_model/special_tokens_map.json',\n",
       " '/kaggle/working/fine_tuned_tamil_qa_model/sentencepiece.bpe.model',\n",
       " '/kaggle/working/fine_tuned_tamil_qa_model/added_tokens.json',\n",
       " '/kaggle/working/fine_tuned_tamil_qa_model/tokenizer.json')"
      ]
     },
     "execution_count": 26,
     "metadata": {},
     "output_type": "execute_result"
    }
   ],
   "source": [
    "# Save model and tokenizer locally in Kaggle working directory\n",
    "model.save_pretrained(\"/kaggle/working/fine_tuned_tamil_qa_model\")\n",
    "tokenizer.save_pretrained(\"/kaggle/working/fine_tuned_tamil_qa_model\")"
   ]
  },
  {
   "cell_type": "code",
   "execution_count": null,
   "metadata": {
    "execution": {
     "iopub.execute_input": "2025-05-24T10:03:33.986604Z",
     "iopub.status.busy": "2025-05-24T10:03:33.986359Z",
     "iopub.status.idle": "2025-05-24T10:03:34.103040Z",
     "shell.execute_reply": "2025-05-24T10:03:34.102519Z",
     "shell.execute_reply.started": "2025-05-24T10:03:33.986586Z"
    },
    "trusted": true
   },
   "outputs": [],
   "source": [
    "# Push to Hugging Face Hub\n",
    "from huggingface_hub import login\n",
    "import os\n",
    "\n",
    "# Manually set your Hugging Face token here as a string\n",
    "hf_token = \"YOUR_HUGGING_FACE_TOKEN\"\n",
    "login(token=hf_token)"
   ]
  },
  {
   "cell_type": "code",
   "execution_count": 28,
   "metadata": {
    "execution": {
     "iopub.execute_input": "2025-05-24T10:03:34.104303Z",
     "iopub.status.busy": "2025-05-24T10:03:34.104092Z",
     "iopub.status.idle": "2025-05-24T10:03:51.450446Z",
     "shell.execute_reply": "2025-05-24T10:03:51.449770Z",
     "shell.execute_reply.started": "2025-05-24T10:03:34.104280Z"
    },
    "trusted": true
   },
   "outputs": [
    {
     "data": {
      "application/vnd.jupyter.widget-view+json": {
       "model_id": "cdd6b8c509c44276854b42d46565a25f",
       "version_major": 2,
       "version_minor": 0
      },
      "text/plain": [
       "model.safetensors:   0%|          | 0.00/614M [00:00<?, ?B/s]"
      ]
     },
     "metadata": {},
     "output_type": "display_data"
    },
    {
     "data": {
      "application/vnd.jupyter.widget-view+json": {
       "model_id": "fde5e98b431a493d8bcf75d71f0f8dbe",
       "version_major": 2,
       "version_minor": 0
      },
      "text/plain": [
       "README.md:   0%|          | 0.00/5.17k [00:00<?, ?B/s]"
      ]
     },
     "metadata": {},
     "output_type": "display_data"
    },
    {
     "data": {
      "application/vnd.jupyter.widget-view+json": {
       "model_id": "7b4d4b9cac954235a882917d6a10728c",
       "version_major": 2,
       "version_minor": 0
      },
      "text/plain": [
       "sentencepiece.bpe.model:   0%|          | 0.00/5.07M [00:00<?, ?B/s]"
      ]
     },
     "metadata": {},
     "output_type": "display_data"
    },
    {
     "data": {
      "application/vnd.jupyter.widget-view+json": {
       "model_id": "a4d82286796c482890dfb03d3a84cedb",
       "version_major": 2,
       "version_minor": 0
      },
      "text/plain": [
       "Upload 2 LFS files:   0%|          | 0/2 [00:00<?, ?it/s]"
      ]
     },
     "metadata": {},
     "output_type": "display_data"
    },
    {
     "data": {
      "application/vnd.jupyter.widget-view+json": {
       "model_id": "83eca064d85d4a279803987cf7d8363a",
       "version_major": 2,
       "version_minor": 0
      },
      "text/plain": [
       "tokenizer.json:   0%|          | 0.00/17.1M [00:00<?, ?B/s]"
      ]
     },
     "metadata": {},
     "output_type": "display_data"
    },
    {
     "data": {
      "text/plain": [
       "CommitInfo(commit_url='https://huggingface.co/RajeevanL/distilled_XLMRoberta_153_v3/commit/472efec3b58b6f988eddc90510d740b7724d9843', commit_message='Upload tokenizer', commit_description='', oid='472efec3b58b6f988eddc90510d740b7724d9843', pr_url=None, repo_url=RepoUrl('https://huggingface.co/RajeevanL/distilled_XLMRoberta_153_v3', endpoint='https://huggingface.co', repo_type='model', repo_id='RajeevanL/distilled_XLMRoberta_153_v3'), pr_revision=None, pr_num=None)"
      ]
     },
     "execution_count": 28,
     "metadata": {},
     "output_type": "execute_result"
    }
   ],
   "source": [
    "model.push_to_hub(\"RajeevanL/distilled_XLMRoberta_153_v3\")\n",
    "tokenizer.push_to_hub(\"RajeevanL/distilled_XLMRoberta_153_v3\")"
   ]
  }
 ],
 "metadata": {
  "kaggle": {
   "accelerator": "nvidiaTeslaT4",
   "dataSources": [
    {
     "datasetId": 7500367,
     "sourceId": 11930122,
     "sourceType": "datasetVersion"
    }
   ],
   "dockerImageVersionId": 31041,
   "isGpuEnabled": true,
   "isInternetEnabled": true,
   "language": "python",
   "sourceType": "notebook"
  },
  "kernelspec": {
   "display_name": "Python 3",
   "language": "python",
   "name": "python3"
  },
  "language_info": {
   "codemirror_mode": {
    "name": "ipython",
    "version": 3
   },
   "file_extension": ".py",
   "mimetype": "text/x-python",
   "name": "python",
   "nbconvert_exporter": "python",
   "pygments_lexer": "ipython3",
   "version": "3.11.11"
  }
 },
 "nbformat": 4,
 "nbformat_minor": 4
}
