{
 "cells": [
  {
   "cell_type": "code",
   "execution_count": 1,
   "metadata": {
    "execution": {
     "iopub.execute_input": "2025-05-24T05:17:46.481337Z",
     "iopub.status.busy": "2025-05-24T05:17:46.480814Z",
     "iopub.status.idle": "2025-05-24T05:18:13.304243Z",
     "shell.execute_reply": "2025-05-24T05:18:13.303396Z",
     "shell.execute_reply.started": "2025-05-24T05:17:46.481312Z"
    },
    "trusted": true
   },
   "outputs": [
    {
     "name": "stderr",
     "output_type": "stream",
     "text": [
      "2025-05-24 05:17:59.911001: E external/local_xla/xla/stream_executor/cuda/cuda_fft.cc:477] Unable to register cuFFT factory: Attempting to register factory for plugin cuFFT when one has already been registered\n",
      "WARNING: All log messages before absl::InitializeLog() is called are written to STDERR\n",
      "E0000 00:00:1748063880.089004      35 cuda_dnn.cc:8310] Unable to register cuDNN factory: Attempting to register factory for plugin cuDNN when one has already been registered\n",
      "E0000 00:00:1748063880.144501      35 cuda_blas.cc:1418] Unable to register cuBLAS factory: Attempting to register factory for plugin cuBLAS when one has already been registered\n"
     ]
    }
   ],
   "source": [
    "import json\n",
    "from transformers import AutoTokenizer, AutoModelForQuestionAnswering, TrainingArguments, Trainer\n",
    "from transformers import default_data_collator\n",
    "import pandas as pd\n",
    "from datasets import Dataset\n",
    "import torch"
   ]
  },
  {
   "cell_type": "code",
   "execution_count": 3,
   "metadata": {
    "execution": {
     "iopub.execute_input": "2025-05-24T05:26:07.430118Z",
     "iopub.status.busy": "2025-05-24T05:26:07.429549Z",
     "iopub.status.idle": "2025-05-24T05:26:12.732767Z",
     "shell.execute_reply": "2025-05-24T05:26:12.731903Z",
     "shell.execute_reply.started": "2025-05-24T05:26:07.430097Z"
    },
    "trusted": true
   },
   "outputs": [
    {
     "name": "stderr",
     "output_type": "stream",
     "text": [
      "/tmp/ipykernel_35/3593000134.py:8: DeprecationWarning: load_dataset is deprecated and will be removed in a future version.\n",
      "  df = kagglehub.load_dataset(\n"
     ]
    }
   ],
   "source": [
    "import kagglehub\n",
    "from kagglehub import KaggleDatasetAdapter\n",
    "\n",
    "# Set the path to the file you'd like to load\n",
    "file_path = \"train_tamil1.csv\"\n",
    "\n",
    "# Load the latest version\n",
    "df = kagglehub.load_dataset(\n",
    "  KaggleDatasetAdapter.PANDAS,\n",
    "  \"uom200501p/tamilqa-csv\",\n",
    "  file_path,\n",
    ")"
   ]
  },
  {
   "cell_type": "code",
   "execution_count": 4,
   "metadata": {
    "execution": {
     "iopub.execute_input": "2025-05-24T05:26:18.494100Z",
     "iopub.status.busy": "2025-05-24T05:26:18.493308Z",
     "iopub.status.idle": "2025-05-24T05:26:18.522047Z",
     "shell.execute_reply": "2025-05-24T05:26:18.521220Z",
     "shell.execute_reply.started": "2025-05-24T05:26:18.494071Z"
    },
    "trusted": true
   },
   "outputs": [
    {
     "data": {
      "text/html": [
       "<div>\n",
       "<style scoped>\n",
       "    .dataframe tbody tr th:only-of-type {\n",
       "        vertical-align: middle;\n",
       "    }\n",
       "\n",
       "    .dataframe tbody tr th {\n",
       "        vertical-align: top;\n",
       "    }\n",
       "\n",
       "    .dataframe thead th {\n",
       "        text-align: right;\n",
       "    }\n",
       "</style>\n",
       "<table border=\"1\" class=\"dataframe\">\n",
       "  <thead>\n",
       "    <tr style=\"text-align: right;\">\n",
       "      <th></th>\n",
       "      <th>id</th>\n",
       "      <th>title</th>\n",
       "      <th>context</th>\n",
       "      <th>question</th>\n",
       "      <th>answers_text</th>\n",
       "      <th>answers_answer_start</th>\n",
       "    </tr>\n",
       "  </thead>\n",
       "  <tbody>\n",
       "    <tr>\n",
       "      <th>0</th>\n",
       "      <td>5a87d4d219b91f001a626e48</td>\n",
       "      <td>வெற்றிடம்</td>\n",
       "      <td>வெற்றிட வெளிப்பாட்டைக் காட்டிலும் விரைவான டிகம...</td>\n",
       "      <td>ஆக்ஸிஜன் நுகர்வு அதிகரிப்பது நுரையீரலுக்கு என்...</td>\n",
       "      <td>[]</td>\n",
       "      <td>[]</td>\n",
       "    </tr>\n",
       "    <tr>\n",
       "      <th>1</th>\n",
       "      <td>5a87d4d219b91f001a626e49</td>\n",
       "      <td>வெற்றிடம்</td>\n",
       "      <td>வெற்றிட வெளிப்பாட்டைக் காட்டிலும் விரைவான டிகம...</td>\n",
       "      <td>மூச்சுக்குழாய் வழியாக காற்றோட்டம் செவிப்பறைகளை...</td>\n",
       "      <td>[]</td>\n",
       "      <td>[]</td>\n",
       "    </tr>\n",
       "    <tr>\n",
       "      <th>2</th>\n",
       "      <td>5a87d4d219b91f001a626e4a</td>\n",
       "      <td>வெற்றிடம்</td>\n",
       "      <td>வெற்றிட வெளிப்பாட்டைக் காட்டிலும் விரைவான டிகம...</td>\n",
       "      <td>உங்கள் மூச்சைப் பிடித்துக் கொண்டால் மூச்சுக் க...</td>\n",
       "      <td>[]</td>\n",
       "      <td>[]</td>\n",
       "    </tr>\n",
       "    <tr>\n",
       "      <th>3</th>\n",
       "      <td>5a87d4d219b91f001a626e4b</td>\n",
       "      <td>வெற்றிடம்</td>\n",
       "      <td>வெற்றிட வெளிப்பாட்டைக் காட்டிலும் விரைவான டிகம...</td>\n",
       "      <td>மூச்சுக்குழாய் வழியாக காற்றோட்டம் என்று என்ன அ...</td>\n",
       "      <td>[]</td>\n",
       "      <td>[]</td>\n",
       "    </tr>\n",
       "    <tr>\n",
       "      <th>4</th>\n",
       "      <td>572eaab5cb0c0d14000f1428</td>\n",
       "      <td>வெற்றிடம்</td>\n",
       "      <td>பிளாட்டோவுக்குப் பிறகு கிட்டத்தட்ட இரண்டாயிரம்...</td>\n",
       "      <td>இயற்கையில் உள்ள வெற்றிடங்களைப் பற்றி டெஸ்கார்ட...</td>\n",
       "      <td>['இயற்கையில் ஒரு வெற்றிடம் ஏற்படாது,']</td>\n",
       "      <td>[269]</td>\n",
       "    </tr>\n",
       "    <tr>\n",
       "      <th>...</th>\n",
       "      <td>...</td>\n",
       "      <td>...</td>\n",
       "      <td>...</td>\n",
       "      <td>...</td>\n",
       "      <td>...</td>\n",
       "      <td>...</td>\n",
       "    </tr>\n",
       "    <tr>\n",
       "      <th>119042</th>\n",
       "      <td>5a6bf3af4eec6b001a80a613</td>\n",
       "      <td>வேட்டையாடுதல்</td>\n",
       "      <td>ஒரு வேட்டையாடும் அதன் இரை இனங்கள் மீதான தாக்கத...</td>\n",
       "      <td>வனவிலங்கு பாதுகாவலர்கள் இரையை மட்டுப்படுத்தினா...</td>\n",
       "      <td>[]</td>\n",
       "      <td>[]</td>\n",
       "    </tr>\n",
       "    <tr>\n",
       "      <th>119043</th>\n",
       "      <td>5a6bf3af4eec6b001a80a614</td>\n",
       "      <td>வேட்டையாடுதல்</td>\n",
       "      <td>ஒரு வேட்டையாடும் அதன் இரை இனங்கள் மீதான தாக்கத...</td>\n",
       "      <td>ஒரு புதிய இரை இனத்தை அறிமுகப்படுத்துவது பலவீனம...</td>\n",
       "      <td>[]</td>\n",
       "      <td>[]</td>\n",
       "    </tr>\n",
       "    <tr>\n",
       "      <th>119044</th>\n",
       "      <td>5726f545708984140094d6fd</td>\n",
       "      <td>வேட்டையாடுதல்</td>\n",
       "      <td>அறிமுகப்படுத்தப்பட்ட உயிரினங்களைக் கட்டுப்படுத...</td>\n",
       "      <td>இயற்கை வேட்டையாடுபவர்கள் பயிர்களுக்கு எவ்வாறு ...</td>\n",
       "      <td>['பயிர்களுக்கு ஏற்படும் சேதத்தை குறைக்கும் வழி...</td>\n",
       "      <td>[666]</td>\n",
       "    </tr>\n",
       "    <tr>\n",
       "      <th>119045</th>\n",
       "      <td>572fdefb947a6a140053cd8d</td>\n",
       "      <td>ஆண்டெனா_(ரேடியோ)</td>\n",
       "      <td>மிகவும் பரவலாகப் பயன்படுத்தப்படும் ஆண்டெனா வகை...</td>\n",
       "      <td>ஆண்டெனா அச்சுக்கு செங்குத்தாக இரண்டு லோப்களை வ...</td>\n",
       "      <td>['கிடைமட்ட இருமுனை']</td>\n",
       "      <td>[244]</td>\n",
       "    </tr>\n",
       "    <tr>\n",
       "      <th>119046</th>\n",
       "      <td>5709aab4ed30961900e843ec</td>\n",
       "      <td>யுனைடெட்_ஸ்டேட்ஸ்_டாலர்</td>\n",
       "      <td>பொதுவாக எண்ணியல் தொகைக்கு முன் எழுதப்படும் $ க...</td>\n",
       "      <td>டாலரைக் குறிக்க எந்த சின்னம் பயன்படுத்தப்படுகி...</td>\n",
       "      <td>['$']</td>\n",
       "      <td>[43]</td>\n",
       "    </tr>\n",
       "  </tbody>\n",
       "</table>\n",
       "<p>119047 rows × 6 columns</p>\n",
       "</div>"
      ],
      "text/plain": [
       "                              id                    title  \\\n",
       "0       5a87d4d219b91f001a626e48                வெற்றிடம்   \n",
       "1       5a87d4d219b91f001a626e49                வெற்றிடம்   \n",
       "2       5a87d4d219b91f001a626e4a                வெற்றிடம்   \n",
       "3       5a87d4d219b91f001a626e4b                வெற்றிடம்   \n",
       "4       572eaab5cb0c0d14000f1428                வெற்றிடம்   \n",
       "...                          ...                      ...   \n",
       "119042  5a6bf3af4eec6b001a80a613            வேட்டையாடுதல்   \n",
       "119043  5a6bf3af4eec6b001a80a614            வேட்டையாடுதல்   \n",
       "119044  5726f545708984140094d6fd            வேட்டையாடுதல்   \n",
       "119045  572fdefb947a6a140053cd8d         ஆண்டெனா_(ரேடியோ)   \n",
       "119046  5709aab4ed30961900e843ec  யுனைடெட்_ஸ்டேட்ஸ்_டாலர்   \n",
       "\n",
       "                                                  context  \\\n",
       "0       வெற்றிட வெளிப்பாட்டைக் காட்டிலும் விரைவான டிகம...   \n",
       "1       வெற்றிட வெளிப்பாட்டைக் காட்டிலும் விரைவான டிகம...   \n",
       "2       வெற்றிட வெளிப்பாட்டைக் காட்டிலும் விரைவான டிகம...   \n",
       "3       வெற்றிட வெளிப்பாட்டைக் காட்டிலும் விரைவான டிகம...   \n",
       "4       பிளாட்டோவுக்குப் பிறகு கிட்டத்தட்ட இரண்டாயிரம்...   \n",
       "...                                                   ...   \n",
       "119042  ஒரு வேட்டையாடும் அதன் இரை இனங்கள் மீதான தாக்கத...   \n",
       "119043  ஒரு வேட்டையாடும் அதன் இரை இனங்கள் மீதான தாக்கத...   \n",
       "119044  அறிமுகப்படுத்தப்பட்ட உயிரினங்களைக் கட்டுப்படுத...   \n",
       "119045  மிகவும் பரவலாகப் பயன்படுத்தப்படும் ஆண்டெனா வகை...   \n",
       "119046  பொதுவாக எண்ணியல் தொகைக்கு முன் எழுதப்படும் $ க...   \n",
       "\n",
       "                                                 question  \\\n",
       "0       ஆக்ஸிஜன் நுகர்வு அதிகரிப்பது நுரையீரலுக்கு என்...   \n",
       "1       மூச்சுக்குழாய் வழியாக காற்றோட்டம் செவிப்பறைகளை...   \n",
       "2       உங்கள் மூச்சைப் பிடித்துக் கொண்டால் மூச்சுக் க...   \n",
       "3       மூச்சுக்குழாய் வழியாக காற்றோட்டம் என்று என்ன அ...   \n",
       "4       இயற்கையில் உள்ள வெற்றிடங்களைப் பற்றி டெஸ்கார்ட...   \n",
       "...                                                   ...   \n",
       "119042  வனவிலங்கு பாதுகாவலர்கள் இரையை மட்டுப்படுத்தினா...   \n",
       "119043  ஒரு புதிய இரை இனத்தை அறிமுகப்படுத்துவது பலவீனம...   \n",
       "119044  இயற்கை வேட்டையாடுபவர்கள் பயிர்களுக்கு எவ்வாறு ...   \n",
       "119045  ஆண்டெனா அச்சுக்கு செங்குத்தாக இரண்டு லோப்களை வ...   \n",
       "119046  டாலரைக் குறிக்க எந்த சின்னம் பயன்படுத்தப்படுகி...   \n",
       "\n",
       "                                             answers_text answers_answer_start  \n",
       "0                                                      []                   []  \n",
       "1                                                      []                   []  \n",
       "2                                                      []                   []  \n",
       "3                                                      []                   []  \n",
       "4                  ['இயற்கையில் ஒரு வெற்றிடம் ஏற்படாது,']                [269]  \n",
       "...                                                   ...                  ...  \n",
       "119042                                                 []                   []  \n",
       "119043                                                 []                   []  \n",
       "119044  ['பயிர்களுக்கு ஏற்படும் சேதத்தை குறைக்கும் வழி...                [666]  \n",
       "119045                               ['கிடைமட்ட இருமுனை']                [244]  \n",
       "119046                                              ['$']                 [43]  \n",
       "\n",
       "[119047 rows x 6 columns]"
      ]
     },
     "execution_count": 4,
     "metadata": {},
     "output_type": "execute_result"
    }
   ],
   "source": [
    "df"
   ]
  },
  {
   "cell_type": "code",
   "execution_count": 5,
   "metadata": {
    "execution": {
     "iopub.execute_input": "2025-05-24T05:26:48.333243Z",
     "iopub.status.busy": "2025-05-24T05:26:48.332750Z",
     "iopub.status.idle": "2025-05-24T05:26:51.104517Z",
     "shell.execute_reply": "2025-05-24T05:26:51.103720Z",
     "shell.execute_reply.started": "2025-05-24T05:26:48.333219Z"
    },
    "trusted": true
   },
   "outputs": [],
   "source": [
    "dataset = Dataset.from_pandas(df)"
   ]
  },
  {
   "cell_type": "code",
   "execution_count": 44,
   "metadata": {
    "execution": {
     "iopub.execute_input": "2025-05-24T07:15:11.703847Z",
     "iopub.status.busy": "2025-05-24T07:15:11.703269Z",
     "iopub.status.idle": "2025-05-24T07:15:22.145286Z",
     "shell.execute_reply": "2025-05-24T07:15:22.144220Z",
     "shell.execute_reply.started": "2025-05-24T07:15:11.703825Z"
    },
    "trusted": true
   },
   "outputs": [
    {
     "data": {
      "application/vnd.jupyter.widget-view+json": {
       "model_id": "64fbb5e7be7241a08c770dad98b532da",
       "version_major": 2,
       "version_minor": 0
      },
      "text/plain": [
       "tokenizer_config.json:   0%|          | 0.00/1.18k [00:00<?, ?B/s]"
      ]
     },
     "metadata": {},
     "output_type": "display_data"
    },
    {
     "data": {
      "application/vnd.jupyter.widget-view+json": {
       "model_id": "5b0dc6900ada4686a5fd2bc562721ede",
       "version_major": 2,
       "version_minor": 0
      },
      "text/plain": [
       "sentencepiece.bpe.model:   0%|          | 0.00/5.07M [00:00<?, ?B/s]"
      ]
     },
     "metadata": {},
     "output_type": "display_data"
    },
    {
     "data": {
      "application/vnd.jupyter.widget-view+json": {
       "model_id": "f3876dec61c3404f92ea2ae2297cc5b7",
       "version_major": 2,
       "version_minor": 0
      },
      "text/plain": [
       "tokenizer.json:   0%|          | 0.00/17.1M [00:00<?, ?B/s]"
      ]
     },
     "metadata": {},
     "output_type": "display_data"
    },
    {
     "data": {
      "application/vnd.jupyter.widget-view+json": {
       "model_id": "e6044bc97eb04b61ae3a0bc089398659",
       "version_major": 2,
       "version_minor": 0
      },
      "text/plain": [
       "special_tokens_map.json:   0%|          | 0.00/964 [00:00<?, ?B/s]"
      ]
     },
     "metadata": {},
     "output_type": "display_data"
    },
    {
     "data": {
      "application/vnd.jupyter.widget-view+json": {
       "model_id": "04da37a21d46466aaca9c71381f73151",
       "version_major": 2,
       "version_minor": 0
      },
      "text/plain": [
       "config.json:   0%|          | 0.00/687 [00:00<?, ?B/s]"
      ]
     },
     "metadata": {},
     "output_type": "display_data"
    },
    {
     "data": {
      "application/vnd.jupyter.widget-view+json": {
       "model_id": "2cb252d6ec97458fb872e385521ae573",
       "version_major": 2,
       "version_minor": 0
      },
      "text/plain": [
       "model.safetensors:   0%|          | 0.00/614M [00:00<?, ?B/s]"
      ]
     },
     "metadata": {},
     "output_type": "display_data"
    }
   ],
   "source": [
    "from transformers import pipeline, AutoModelForQuestionAnswering, AutoTokenizer\n",
    "tokenizer = AutoTokenizer.from_pretrained(\"RajeevanL/distilled_XLMRoberta_153_v5\")\n",
    "model = AutoModelForQuestionAnswering.from_pretrained(\"RajeevanL/distilled_XLMRoberta_153_v5\")"
   ]
  },
  {
   "cell_type": "code",
   "execution_count": 12,
   "metadata": {
    "execution": {
     "iopub.execute_input": "2025-05-24T05:43:40.986212Z",
     "iopub.status.busy": "2025-05-24T05:43:40.985902Z",
     "iopub.status.idle": "2025-05-24T05:43:40.991234Z",
     "shell.execute_reply": "2025-05-24T05:43:40.990281Z",
     "shell.execute_reply.started": "2025-05-24T05:43:40.986190Z"
    },
    "trusted": true
   },
   "outputs": [],
   "source": [
    "context = \"\"\"\n",
    "வெற்றிட வெளிப்பாட்டைக் காட்டிலும் விரைவான டிகம்ப்ரஷன் மிகவும் ஆபத்தானது. பாதிக்கப்பட்டவர் தனது மூச்சைப் பிடித்துக் கொள்ளாவிட்டாலும், நுரையீரலின் நுண்ணிய அல்வியோலியின் அபாயகரமான சிதைவைத் தடுக்க மூச்சுக் குழாய் வழியாக வெளியேறுவது மிகவும் மெதுவாக இருக்கும். காதுகுழாய்கள் மற்றும் சைனஸ்கள் விரைவான டிகம்பரஷ்ஷனால் சிதைக்கப்படலாம், மென்மையான திசுக்கள் சிராய்ப்பு மற்றும் இரத்தத்தை கசியும், மேலும் அதிர்ச்சியின் அழுத்தம் ஆக்ஸிஜன் நுகர்வு ஹைபோக்ஸியாவுக்கு வழிவகுக்கும். விரைவான டிகம்பரஷ்ஷனால் ஏற்படும் காயங்கள் பரோட்ராமா என்று அழைக்கப்படுகின்றன. ௧௩ கேபிஏ (௧௦௦ டோர்) அழுத்தம் குறைவது, அது படிப்படியாக இருந்தால் எந்த அறிகுறிகளையும் உருவாக்காது, அது திடீரென்று ஏற்பட்டால் அது ஆபத்தானது.\n",
    "\n",
    "மேலும், மரபணுக்களில் ஏற்பட்ட மாற்றங்கள் உடல் செயல்பாடுகளில் பெரும் பாதிப்பை ஏற்படுத்தலாம். குறைந்த அழுத்தநிலை நீண்ட நேரம் தொடர்ந்தால் திசுக்கள் நசுக்கும் வாய்ப்பு அதிகரிக்கிறது. இவ்வாறு ஏற்பட்ட ஆழமான பிசின் அழுத்தம் நரம்பியல் பாதிப்புகள் மற்றும் இரத்த ஓட்டத்தின் குறைபாடுகளை உருவாக்கும். விரைவில் மருத்துவமனையில் சென்று பரிசோதனை செய்வது அவசியம்.\n",
    "\n",
    "இதுபோன்ற சூழ்நிலைகளில் பயணிகள் மற்றும் விரும்பத்தக்க அவசர சேவைகள் பாகுபாடு செய்யப்பட வேண்டும். மருத்துவ ஆலோசனைகள் அவசியமானதாக இருக்கின்றன மற்றும் அவை பாதுகாப்பு நடைமுறைகளுடன் பின்பற்றப்பட வேண்டும். உடல்நலம் பாதுகாப்பதற்கான முறைகள் சிறப்பாக திட்டமிடப்பட்டிருக்க வேண்டும்.\n",
    "\"\"\"\n"
   ]
  },
  {
   "cell_type": "code",
   "execution_count": 13,
   "metadata": {
    "execution": {
     "iopub.execute_input": "2025-05-24T05:44:07.768379Z",
     "iopub.status.busy": "2025-05-24T05:44:07.767832Z",
     "iopub.status.idle": "2025-05-24T05:44:07.774354Z",
     "shell.execute_reply": "2025-05-24T05:44:07.773641Z",
     "shell.execute_reply.started": "2025-05-24T05:44:07.768359Z"
    },
    "trusted": true
   },
   "outputs": [],
   "source": [
    "encoding = tokenizer(context, return_tensors=\"pt\")"
   ]
  },
  {
   "cell_type": "code",
   "execution_count": 14,
   "metadata": {
    "execution": {
     "iopub.execute_input": "2025-05-24T05:44:11.111819Z",
     "iopub.status.busy": "2025-05-24T05:44:11.111563Z",
     "iopub.status.idle": "2025-05-24T05:44:11.117120Z",
     "shell.execute_reply": "2025-05-24T05:44:11.116448Z",
     "shell.execute_reply.started": "2025-05-24T05:44:11.111803Z"
    },
    "trusted": true
   },
   "outputs": [],
   "source": [
    "tokens = tokenizer.convert_ids_to_tokens(encoding[\"input_ids\"][0])"
   ]
  },
  {
   "cell_type": "code",
   "execution_count": 15,
   "metadata": {
    "execution": {
     "iopub.execute_input": "2025-05-24T05:44:13.922940Z",
     "iopub.status.busy": "2025-05-24T05:44:13.922437Z",
     "iopub.status.idle": "2025-05-24T05:44:13.927706Z",
     "shell.execute_reply": "2025-05-24T05:44:13.927088Z",
     "shell.execute_reply.started": "2025-05-24T05:44:13.922917Z"
    },
    "trusted": true
   },
   "outputs": [
    {
     "data": {
      "text/plain": [
       "341"
      ]
     },
     "execution_count": 15,
     "metadata": {},
     "output_type": "execute_result"
    }
   ],
   "source": [
    "len(tokens)"
   ]
  },
  {
   "cell_type": "code",
   "execution_count": 29,
   "metadata": {
    "execution": {
     "iopub.execute_input": "2025-05-24T05:55:10.881568Z",
     "iopub.status.busy": "2025-05-24T05:55:10.881201Z",
     "iopub.status.idle": "2025-05-24T05:55:10.894184Z",
     "shell.execute_reply": "2025-05-24T05:55:10.893103Z",
     "shell.execute_reply.started": "2025-05-24T05:55:10.881544Z"
    },
    "trusted": true
   },
   "outputs": [],
   "source": [
    "import ast\n",
    "\n",
    "def preprocess_function(examples):\n",
    "    questions = [q.strip() if q is not None else \"\" for q in examples[\"question\"]]\n",
    "    contexts = [c if isinstance(c, str) else \"\" for c in examples[\"context\"]]\n",
    "    inputs = tokenizer(\n",
    "        questions,\n",
    "        contexts,\n",
    "        max_length=384,\n",
    "        truncation=\"only_second\",\n",
    "        return_offsets_mapping=True,\n",
    "        padding=\"max_length\",\n",
    "    )\n",
    "\n",
    "    offset_mapping = inputs.pop(\"offset_mapping\")\n",
    "    start_positions = []\n",
    "    end_positions = []\n",
    "\n",
    "    for i, offsets in enumerate(offset_mapping):\n",
    "        # Get raw answers (may be list or stringified list)\n",
    "        answer_starts = examples[\"answers_answer_start\"][i]\n",
    "        answer_texts = examples[\"answers_text\"][i]\n",
    "\n",
    "        # If strings like '[123]' or \"['answer']\", parse to actual list\n",
    "        if isinstance(answer_starts, str):\n",
    "            try:\n",
    "                answer_starts = ast.literal_eval(answer_starts)\n",
    "            except Exception:\n",
    "                answer_starts = []\n",
    "        if isinstance(answer_texts, str):\n",
    "            try:\n",
    "                answer_texts = ast.literal_eval(answer_texts)\n",
    "            except Exception:\n",
    "                answer_texts = []\n",
    "\n",
    "        # If empty after parsing, treat as no answer\n",
    "        if not answer_texts or not answer_starts:\n",
    "            start_positions.append(0)\n",
    "            end_positions.append(0)\n",
    "            continue\n",
    "\n",
    "        # Convert to int safely\n",
    "        try:\n",
    "            start_char = int(answer_starts[0])\n",
    "        except Exception:\n",
    "            start_positions.append(0)\n",
    "            end_positions.append(0)\n",
    "            continue\n",
    "\n",
    "        end_char = start_char + len(answer_texts[0])\n",
    "        sequence_ids = inputs.sequence_ids(i)\n",
    "\n",
    "        # Find context token start/end indices\n",
    "        context_start = None\n",
    "        context_end = None\n",
    "        for idx, seq_id in enumerate(sequence_ids):\n",
    "            if seq_id == 1 and context_start is None:\n",
    "                context_start = idx\n",
    "            if seq_id == 1:\n",
    "                context_end = idx\n",
    "\n",
    "        if context_start is None or context_end is None:\n",
    "            start_positions.append(0)\n",
    "            end_positions.append(0)\n",
    "            continue\n",
    "\n",
    "        # Check if answer inside the context span\n",
    "        if offsets[context_start][0] > end_char or offsets[context_end][1] < start_char:\n",
    "            start_positions.append(0)\n",
    "            end_positions.append(0)\n",
    "            continue\n",
    "\n",
    "        # Find start token index\n",
    "        idx = context_start\n",
    "        while idx <= context_end and offsets[idx][0] <= start_char:\n",
    "            idx += 1\n",
    "        start_positions.append(idx - 1)\n",
    "\n",
    "        # Find end token index\n",
    "        idx = context_end\n",
    "        while idx >= context_start and offsets[idx][1] >= end_char:\n",
    "            idx -= 1\n",
    "        end_positions.append(idx + 1)\n",
    "\n",
    "    inputs[\"start_positions\"] = start_positions\n",
    "    inputs[\"end_positions\"] = end_positions\n",
    "    return inputs\n"
   ]
  },
  {
   "cell_type": "code",
   "execution_count": 30,
   "metadata": {
    "execution": {
     "iopub.execute_input": "2025-05-24T05:55:14.943995Z",
     "iopub.status.busy": "2025-05-24T05:55:14.943723Z",
     "iopub.status.idle": "2025-05-24T05:56:35.760339Z",
     "shell.execute_reply": "2025-05-24T05:56:35.759462Z",
     "shell.execute_reply.started": "2025-05-24T05:55:14.943976Z"
    },
    "trusted": true
   },
   "outputs": [
    {
     "data": {
      "application/vnd.jupyter.widget-view+json": {
       "model_id": "63759a6af8ef4ad896e5e55ccc62f06e",
       "version_major": 2,
       "version_minor": 0
      },
      "text/plain": [
       "Map:   0%|          | 0/119047 [00:00<?, ? examples/s]"
      ]
     },
     "metadata": {},
     "output_type": "display_data"
    }
   ],
   "source": [
    "# Tokenize\n",
    "tokenized_dataset = dataset.map(\n",
    "    preprocess_function,\n",
    "    batched=True,\n",
    "    remove_columns=dataset.column_names\n",
    ")"
   ]
  },
  {
   "cell_type": "code",
   "execution_count": 32,
   "metadata": {
    "execution": {
     "iopub.execute_input": "2025-05-24T05:57:14.140206Z",
     "iopub.status.busy": "2025-05-24T05:57:14.139926Z",
     "iopub.status.idle": "2025-05-24T05:57:14.145294Z",
     "shell.execute_reply": "2025-05-24T05:57:14.144726Z",
     "shell.execute_reply.started": "2025-05-24T05:57:14.140178Z"
    },
    "trusted": true
   },
   "outputs": [
    {
     "data": {
      "text/plain": [
       "Dataset({\n",
       "    features: ['input_ids', 'attention_mask', 'start_positions', 'end_positions'],\n",
       "    num_rows: 119047\n",
       "})"
      ]
     },
     "execution_count": 32,
     "metadata": {},
     "output_type": "execute_result"
    }
   ],
   "source": [
    "tokenized_dataset"
   ]
  },
  {
   "cell_type": "code",
   "execution_count": 33,
   "metadata": {
    "execution": {
     "iopub.execute_input": "2025-05-24T05:57:26.383802Z",
     "iopub.status.busy": "2025-05-24T05:57:26.383203Z",
     "iopub.status.idle": "2025-05-24T05:57:26.417542Z",
     "shell.execute_reply": "2025-05-24T05:57:26.416998Z",
     "shell.execute_reply.started": "2025-05-24T05:57:26.383781Z"
    },
    "trusted": true
   },
   "outputs": [
    {
     "data": {
      "text/plain": [
       "DatasetDict({\n",
       "    train: Dataset({\n",
       "        features: ['input_ids', 'attention_mask', 'start_positions', 'end_positions'],\n",
       "        num_rows: 95237\n",
       "    })\n",
       "    test: Dataset({\n",
       "        features: ['input_ids', 'attention_mask', 'start_positions', 'end_positions'],\n",
       "        num_rows: 23810\n",
       "    })\n",
       "})"
      ]
     },
     "execution_count": 33,
     "metadata": {},
     "output_type": "execute_result"
    }
   ],
   "source": [
    "split_dataset = tokenized_dataset.train_test_split(test_size=0.2, seed=42)\n",
    "split_dataset"
   ]
  },
  {
   "cell_type": "code",
   "execution_count": 39,
   "metadata": {
    "execution": {
     "iopub.execute_input": "2025-05-24T06:03:10.102543Z",
     "iopub.status.busy": "2025-05-24T06:03:10.101976Z",
     "iopub.status.idle": "2025-05-24T06:03:10.134336Z",
     "shell.execute_reply": "2025-05-24T06:03:10.133836Z",
     "shell.execute_reply.started": "2025-05-24T06:03:10.102520Z"
    },
    "trusted": true
   },
   "outputs": [],
   "source": [
    "# Training args\n",
    "training_args = TrainingArguments(\n",
    "    output_dir=\"./results\",\n",
    "    eval_strategy=\"epoch\",\n",
    "    learning_rate=2e-5,\n",
    "    per_device_train_batch_size=16,\n",
    "    per_device_eval_batch_size=16,\n",
    "    num_train_epochs=2,\n",
    "    weight_decay=0.01,\n",
    "    save_strategy=\"epoch\",\n",
    "    logging_dir=\"./logs\",\n",
    "    load_best_model_at_end=True,\n",
    "    metric_for_best_model=\"eval_loss\",\n",
    "    greater_is_better=False,\n",
    "    report_to=[], \n",
    ")"
   ]
  },
  {
   "cell_type": "code",
   "execution_count": 40,
   "metadata": {
    "execution": {
     "iopub.execute_input": "2025-05-24T06:03:13.220688Z",
     "iopub.status.busy": "2025-05-24T06:03:13.219938Z",
     "iopub.status.idle": "2025-05-24T07:01:45.314232Z",
     "shell.execute_reply": "2025-05-24T07:01:45.313665Z",
     "shell.execute_reply.started": "2025-05-24T06:03:13.220665Z"
    },
    "trusted": true
   },
   "outputs": [
    {
     "name": "stderr",
     "output_type": "stream",
     "text": [
      "/tmp/ipykernel_35/1566634480.py:2: FutureWarning: `tokenizer` is deprecated and will be removed in version 5.0.0 for `Trainer.__init__`. Use `processing_class` instead.\n",
      "  trainer = Trainer(\n",
      "/usr/local/lib/python3.11/dist-packages/torch/nn/parallel/_functions.py:70: UserWarning: Was asked to gather along dimension 0, but all input tensors were scalars; will instead unsqueeze and return a vector.\n",
      "  warnings.warn(\n"
     ]
    },
    {
     "data": {
      "text/html": [
       "\n",
       "    <div>\n",
       "      \n",
       "      <progress value='5954' max='5954' style='width:300px; height:20px; vertical-align: middle;'></progress>\n",
       "      [5954/5954 58:29, Epoch 2/2]\n",
       "    </div>\n",
       "    <table border=\"1\" class=\"dataframe\">\n",
       "  <thead>\n",
       " <tr style=\"text-align: left;\">\n",
       "      <th>Epoch</th>\n",
       "      <th>Training Loss</th>\n",
       "      <th>Validation Loss</th>\n",
       "    </tr>\n",
       "  </thead>\n",
       "  <tbody>\n",
       "    <tr>\n",
       "      <td>1</td>\n",
       "      <td>3.503600</td>\n",
       "      <td>3.396453</td>\n",
       "    </tr>\n",
       "    <tr>\n",
       "      <td>2</td>\n",
       "      <td>3.320100</td>\n",
       "      <td>3.346415</td>\n",
       "    </tr>\n",
       "  </tbody>\n",
       "</table><p>"
      ],
      "text/plain": [
       "<IPython.core.display.HTML object>"
      ]
     },
     "metadata": {},
     "output_type": "display_data"
    },
    {
     "name": "stderr",
     "output_type": "stream",
     "text": [
      "/usr/local/lib/python3.11/dist-packages/torch/nn/parallel/_functions.py:70: UserWarning: Was asked to gather along dimension 0, but all input tensors were scalars; will instead unsqueeze and return a vector.\n",
      "  warnings.warn(\n"
     ]
    },
    {
     "data": {
      "text/plain": [
       "TrainOutput(global_step=5954, training_loss=3.4356312827051667, metrics={'train_runtime': 3511.6259, 'train_samples_per_second': 54.241, 'train_steps_per_second': 1.696, 'total_flos': 1.1068342253171712e+16, 'train_loss': 3.4356312827051667, 'epoch': 2.0})"
      ]
     },
     "execution_count": 40,
     "metadata": {},
     "output_type": "execute_result"
    }
   ],
   "source": [
    "# Trainer\n",
    "trainer = Trainer(\n",
    "    model=model,\n",
    "    args=training_args,\n",
    "    train_dataset=split_dataset[\"train\"],\n",
    "    eval_dataset=split_dataset[\"test\"],\n",
    "    data_collator=default_data_collator,\n",
    "    tokenizer=tokenizer,\n",
    ")\n",
    "\n",
    "# Train model\n",
    "trainer.train()"
   ]
  },
  {
   "cell_type": "code",
   "execution_count": 41,
   "metadata": {
    "execution": {
     "iopub.execute_input": "2025-05-24T07:03:22.530274Z",
     "iopub.status.busy": "2025-05-24T07:03:22.529470Z",
     "iopub.status.idle": "2025-05-24T07:03:24.100605Z",
     "shell.execute_reply": "2025-05-24T07:03:24.099868Z",
     "shell.execute_reply.started": "2025-05-24T07:03:22.530245Z"
    },
    "trusted": true
   },
   "outputs": [
    {
     "data": {
      "text/plain": [
       "('/kaggle/working/fine_tuned_tamil_qa_model/tokenizer_config.json',\n",
       " '/kaggle/working/fine_tuned_tamil_qa_model/special_tokens_map.json',\n",
       " '/kaggle/working/fine_tuned_tamil_qa_model/sentencepiece.bpe.model',\n",
       " '/kaggle/working/fine_tuned_tamil_qa_model/added_tokens.json',\n",
       " '/kaggle/working/fine_tuned_tamil_qa_model/tokenizer.json')"
      ]
     },
     "execution_count": 41,
     "metadata": {},
     "output_type": "execute_result"
    }
   ],
   "source": [
    "# Save model and tokenizer locally in Kaggle working directory\n",
    "model.save_pretrained(\"/kaggle/working/fine_tuned_tamil_qa_model\")\n",
    "tokenizer.save_pretrained(\"/kaggle/working/fine_tuned_tamil_qa_model\")"
   ]
  },
  {
   "cell_type": "code",
   "execution_count": null,
   "metadata": {
    "execution": {
     "iopub.execute_input": "2025-05-24T07:03:27.689314Z",
     "iopub.status.busy": "2025-05-24T07:03:27.688641Z",
     "iopub.status.idle": "2025-05-24T07:03:27.828671Z",
     "shell.execute_reply": "2025-05-24T07:03:27.827938Z",
     "shell.execute_reply.started": "2025-05-24T07:03:27.689292Z"
    },
    "trusted": true
   },
   "outputs": [],
   "source": [
    "# Push to Hugging Face Hub\n",
    "from huggingface_hub import login\n",
    "import os\n",
    "\n",
    "# Manually set your Hugging Face token here as a string\n",
    "hf_token = \"YOUR_HUGGING_FACE_TOKEN\"\n",
    "login(token=hf_token)"
   ]
  },
  {
   "cell_type": "code",
   "execution_count": 43,
   "metadata": {
    "execution": {
     "iopub.execute_input": "2025-05-24T07:03:32.564124Z",
     "iopub.status.busy": "2025-05-24T07:03:32.563846Z",
     "iopub.status.idle": "2025-05-24T07:03:59.814967Z",
     "shell.execute_reply": "2025-05-24T07:03:59.814350Z",
     "shell.execute_reply.started": "2025-05-24T07:03:32.564104Z"
    },
    "trusted": true
   },
   "outputs": [
    {
     "data": {
      "application/vnd.jupyter.widget-view+json": {
       "model_id": "d0c2ff19629d497fb1a216c29da9a82d",
       "version_major": 2,
       "version_minor": 0
      },
      "text/plain": [
       "model.safetensors:   0%|          | 0.00/614M [00:00<?, ?B/s]"
      ]
     },
     "metadata": {},
     "output_type": "display_data"
    },
    {
     "data": {
      "application/vnd.jupyter.widget-view+json": {
       "model_id": "d1faa93d726b418da47c5a7fffaaa889",
       "version_major": 2,
       "version_minor": 0
      },
      "text/plain": [
       "README.md:   0%|          | 0.00/5.17k [00:00<?, ?B/s]"
      ]
     },
     "metadata": {},
     "output_type": "display_data"
    },
    {
     "data": {
      "application/vnd.jupyter.widget-view+json": {
       "model_id": "836b7e91a43a4ad3bbe9c03f9446b98c",
       "version_major": 2,
       "version_minor": 0
      },
      "text/plain": [
       "sentencepiece.bpe.model:   0%|          | 0.00/5.07M [00:00<?, ?B/s]"
      ]
     },
     "metadata": {},
     "output_type": "display_data"
    },
    {
     "data": {
      "application/vnd.jupyter.widget-view+json": {
       "model_id": "32f1483895254d8d9ade8bd697725edd",
       "version_major": 2,
       "version_minor": 0
      },
      "text/plain": [
       "Upload 2 LFS files:   0%|          | 0/2 [00:00<?, ?it/s]"
      ]
     },
     "metadata": {},
     "output_type": "display_data"
    },
    {
     "data": {
      "application/vnd.jupyter.widget-view+json": {
       "model_id": "0abe99e9e10c425ea7c472ffa7ff2f1b",
       "version_major": 2,
       "version_minor": 0
      },
      "text/plain": [
       "tokenizer.json:   0%|          | 0.00/17.1M [00:00<?, ?B/s]"
      ]
     },
     "metadata": {},
     "output_type": "display_data"
    },
    {
     "data": {
      "text/plain": [
       "CommitInfo(commit_url='https://huggingface.co/RajeevanL/distilled_XLMRoberta_153_v2/commit/499ee4e1fd4ee66dc854f7251fb6126e3eabde88', commit_message='Upload tokenizer', commit_description='', oid='499ee4e1fd4ee66dc854f7251fb6126e3eabde88', pr_url=None, repo_url=RepoUrl('https://huggingface.co/RajeevanL/distilled_XLMRoberta_153_v2', endpoint='https://huggingface.co', repo_type='model', repo_id='RajeevanL/distilled_XLMRoberta_153_v2'), pr_revision=None, pr_num=None)"
      ]
     },
     "execution_count": 43,
     "metadata": {},
     "output_type": "execute_result"
    }
   ],
   "source": [
    "model.push_to_hub(\"RajeevanL/distilled_XLMRoberta_153_v6\")\n",
    "tokenizer.push_to_hub(\"RajeevanL/distilled_XLMRoberta_153_v6\")\n"
   ]
  }
 ],
 "metadata": {
  "kaggle": {
   "accelerator": "nvidiaTeslaT4",
   "dataSources": [
    {
     "datasetId": 7499722,
     "sourceId": 11929172,
     "sourceType": "datasetVersion"
    }
   ],
   "dockerImageVersionId": 31041,
   "isGpuEnabled": true,
   "isInternetEnabled": true,
   "language": "python",
   "sourceType": "notebook"
  },
  "kernelspec": {
   "display_name": "Python 3",
   "language": "python",
   "name": "python3"
  },
  "language_info": {
   "codemirror_mode": {
    "name": "ipython",
    "version": 3
   },
   "file_extension": ".py",
   "mimetype": "text/x-python",
   "name": "python",
   "nbconvert_exporter": "python",
   "pygments_lexer": "ipython3",
   "version": "3.11.11"
  }
 },
 "nbformat": 4,
 "nbformat_minor": 4
}
